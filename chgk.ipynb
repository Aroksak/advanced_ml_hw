{
 "cells": [
  {
   "cell_type": "code",
   "execution_count": 32,
   "metadata": {
    "collapsed": true,
    "pycharm": {
     "name": "#%%\n"
    }
   },
   "outputs": [],
   "source": [
    "import pickle\n",
    "\n",
    "import numpy as np\n",
    "import pandas as pd\n",
    "from scipy.stats import spearmanr, kendalltau\n",
    "from sklearn.linear_model import LogisticRegression, LinearRegression\n",
    "from tqdm.auto import tqdm, trange"
   ]
  },
  {
   "cell_type": "markdown",
   "source": [
    "# 1. Data Preparation"
   ],
   "metadata": {
    "collapsed": false,
    "pycharm": {
     "name": "#%% md\n"
    }
   }
  },
  {
   "cell_type": "code",
   "execution_count": 2,
   "outputs": [
    {
     "data": {
      "text/plain": "             name  patronymic    surname\nid                                      \n1         Алексей        None   Абабилов\n10          Игорь                 Абалов\n11        Наталья     Юрьевна  Абалымова\n12          Артур  Евгеньевич    Абальян\n13           Эрик  Евгеньевич    Абальян\n...           ...         ...        ...\n224700      Артём  Евгеньевич      Садов\n224701     Даниил    Олегович   Трефилов\n224702   Владимир  Араратович   Басенцян\n224703     Руслан   Ринатович   Дауранов\n224704  Александр  Викторович    Гапонов\n\n[204063 rows x 3 columns]",
      "text/html": "<div>\n<style scoped>\n    .dataframe tbody tr th:only-of-type {\n        vertical-align: middle;\n    }\n\n    .dataframe tbody tr th {\n        vertical-align: top;\n    }\n\n    .dataframe thead th {\n        text-align: right;\n    }\n</style>\n<table border=\"1\" class=\"dataframe\">\n  <thead>\n    <tr style=\"text-align: right;\">\n      <th></th>\n      <th>name</th>\n      <th>patronymic</th>\n      <th>surname</th>\n    </tr>\n    <tr>\n      <th>id</th>\n      <th></th>\n      <th></th>\n      <th></th>\n    </tr>\n  </thead>\n  <tbody>\n    <tr>\n      <th>1</th>\n      <td>Алексей</td>\n      <td>None</td>\n      <td>Абабилов</td>\n    </tr>\n    <tr>\n      <th>10</th>\n      <td>Игорь</td>\n      <td></td>\n      <td>Абалов</td>\n    </tr>\n    <tr>\n      <th>11</th>\n      <td>Наталья</td>\n      <td>Юрьевна</td>\n      <td>Абалымова</td>\n    </tr>\n    <tr>\n      <th>12</th>\n      <td>Артур</td>\n      <td>Евгеньевич</td>\n      <td>Абальян</td>\n    </tr>\n    <tr>\n      <th>13</th>\n      <td>Эрик</td>\n      <td>Евгеньевич</td>\n      <td>Абальян</td>\n    </tr>\n    <tr>\n      <th>...</th>\n      <td>...</td>\n      <td>...</td>\n      <td>...</td>\n    </tr>\n    <tr>\n      <th>224700</th>\n      <td>Артём</td>\n      <td>Евгеньевич</td>\n      <td>Садов</td>\n    </tr>\n    <tr>\n      <th>224701</th>\n      <td>Даниил</td>\n      <td>Олегович</td>\n      <td>Трефилов</td>\n    </tr>\n    <tr>\n      <th>224702</th>\n      <td>Владимир</td>\n      <td>Араратович</td>\n      <td>Басенцян</td>\n    </tr>\n    <tr>\n      <th>224703</th>\n      <td>Руслан</td>\n      <td>Ринатович</td>\n      <td>Дауранов</td>\n    </tr>\n    <tr>\n      <th>224704</th>\n      <td>Александр</td>\n      <td>Викторович</td>\n      <td>Гапонов</td>\n    </tr>\n  </tbody>\n</table>\n<p>204063 rows × 3 columns</p>\n</div>"
     },
     "execution_count": 2,
     "metadata": {},
     "output_type": "execute_result"
    }
   ],
   "source": [
    "with open(\"players.pkl\", \"rb\") as f:\n",
    "    players = pd.DataFrame(pickle.load(f)).T.set_index(\"id\").sort_index()\n",
    "players"
   ],
   "metadata": {
    "collapsed": false,
    "pycharm": {
     "name": "#%%\n"
    }
   }
  },
  {
   "cell_type": "code",
   "execution_count": 3,
   "outputs": [
    {
     "data": {
      "text/plain": "           id  team_id player_id  \\\n0          22        1      1560   \n1          22        1      2935   \n2          22        1      3270   \n3          22        1      4878   \n4          22        1     18935   \n...       ...      ...       ...   \n2331713  6456    69918    129706   \n2331714  6456    69918    192901   \n2331715  6456    63129    165962   \n2331716  6456    63129    154624   \n2331717  6456    63129    224329   \n\n                                                      mask  questionsTotal  \\\n0        0111011101101110001101110011111111110011111100...              67   \n1        0111011101101110001101110011111111110011111100...              67   \n2        0111011101101110001101110011111111110011111100...              67   \n3        0111011101101110001101110011111111110011111100...              67   \n4        0111011101101110001101110011111111110011111100...              67   \n...                                                    ...             ...   \n2331713            100101101100100100010110100100010001010              16   \n2331714            100101101100100100010110100100010001010              16   \n2331715            101000100110000110001000101000010100001              13   \n2331716            101000100110000110001000101000010100001              13   \n2331717            101000100110000110001000101000010100001              13   \n\n         position  \n0             1.0  \n1             1.0  \n2             1.0  \n3             1.0  \n4             1.0  \n...           ...  \n2331713       6.0  \n2331714       6.0  \n2331715       7.0  \n2331716       7.0  \n2331717       7.0  \n\n[2331554 rows x 6 columns]",
      "text/html": "<div>\n<style scoped>\n    .dataframe tbody tr th:only-of-type {\n        vertical-align: middle;\n    }\n\n    .dataframe tbody tr th {\n        vertical-align: top;\n    }\n\n    .dataframe thead th {\n        text-align: right;\n    }\n</style>\n<table border=\"1\" class=\"dataframe\">\n  <thead>\n    <tr style=\"text-align: right;\">\n      <th></th>\n      <th>id</th>\n      <th>team_id</th>\n      <th>player_id</th>\n      <th>mask</th>\n      <th>questionsTotal</th>\n      <th>position</th>\n    </tr>\n  </thead>\n  <tbody>\n    <tr>\n      <th>0</th>\n      <td>22</td>\n      <td>1</td>\n      <td>1560</td>\n      <td>0111011101101110001101110011111111110011111100...</td>\n      <td>67</td>\n      <td>1.0</td>\n    </tr>\n    <tr>\n      <th>1</th>\n      <td>22</td>\n      <td>1</td>\n      <td>2935</td>\n      <td>0111011101101110001101110011111111110011111100...</td>\n      <td>67</td>\n      <td>1.0</td>\n    </tr>\n    <tr>\n      <th>2</th>\n      <td>22</td>\n      <td>1</td>\n      <td>3270</td>\n      <td>0111011101101110001101110011111111110011111100...</td>\n      <td>67</td>\n      <td>1.0</td>\n    </tr>\n    <tr>\n      <th>3</th>\n      <td>22</td>\n      <td>1</td>\n      <td>4878</td>\n      <td>0111011101101110001101110011111111110011111100...</td>\n      <td>67</td>\n      <td>1.0</td>\n    </tr>\n    <tr>\n      <th>4</th>\n      <td>22</td>\n      <td>1</td>\n      <td>18935</td>\n      <td>0111011101101110001101110011111111110011111100...</td>\n      <td>67</td>\n      <td>1.0</td>\n    </tr>\n    <tr>\n      <th>...</th>\n      <td>...</td>\n      <td>...</td>\n      <td>...</td>\n      <td>...</td>\n      <td>...</td>\n      <td>...</td>\n    </tr>\n    <tr>\n      <th>2331713</th>\n      <td>6456</td>\n      <td>69918</td>\n      <td>129706</td>\n      <td>100101101100100100010110100100010001010</td>\n      <td>16</td>\n      <td>6.0</td>\n    </tr>\n    <tr>\n      <th>2331714</th>\n      <td>6456</td>\n      <td>69918</td>\n      <td>192901</td>\n      <td>100101101100100100010110100100010001010</td>\n      <td>16</td>\n      <td>6.0</td>\n    </tr>\n    <tr>\n      <th>2331715</th>\n      <td>6456</td>\n      <td>63129</td>\n      <td>165962</td>\n      <td>101000100110000110001000101000010100001</td>\n      <td>13</td>\n      <td>7.0</td>\n    </tr>\n    <tr>\n      <th>2331716</th>\n      <td>6456</td>\n      <td>63129</td>\n      <td>154624</td>\n      <td>101000100110000110001000101000010100001</td>\n      <td>13</td>\n      <td>7.0</td>\n    </tr>\n    <tr>\n      <th>2331717</th>\n      <td>6456</td>\n      <td>63129</td>\n      <td>224329</td>\n      <td>101000100110000110001000101000010100001</td>\n      <td>13</td>\n      <td>7.0</td>\n    </tr>\n  </tbody>\n</table>\n<p>2331554 rows × 6 columns</p>\n</div>"
     },
     "execution_count": 3,
     "metadata": {},
     "output_type": "execute_result"
    }
   ],
   "source": [
    "with open(\"results.pkl\", \"rb\") as f:\n",
    "    results = pickle.load(f)\n",
    "\n",
    "def process_tournament(tournament, t_id):\n",
    "    if len(tournament) == 0 or ('mask' not in tournament[0]) or tournament[0]['mask'] is None:\n",
    "        return None\n",
    "    out = pd.DataFrame(tournament)\n",
    "    out['id'] = t_id\n",
    "    out['team_id'] = out['team'].apply(pd.Series)['id']\n",
    "    out = out.explode(\"teamMembers\")\n",
    "    out = out.dropna(subset=['teamMembers'])\n",
    "    out['player_id'] = out['teamMembers'].apply(lambda x: x['player']['id'])\n",
    "    return out[['id', 'team_id', 'player_id', 'mask', 'questionsTotal', 'position']]\n",
    "\n",
    "results = pd.concat([process_tournament(value, key) for key, value in results.items()]).reset_index(drop=True)\n",
    "results['mask'] = results['mask'].str.replace(r'[^01]', '', regex=True)\n",
    "results = results.dropna(subset=['mask'])\n",
    "results"
   ],
   "metadata": {
    "collapsed": false,
    "pycharm": {
     "name": "#%%\n"
    }
   }
  },
  {
   "cell_type": "code",
   "execution_count": 4,
   "outputs": [
    {
     "data": {
      "text/plain": "                                                   name  \\\nid                                                        \n1                              Чемпионат Южного Кавказа   \n2                                           Летние зори   \n3                                      Турнир в Ижевске   \n4                    Чемпионат Украины. Переходной этап   \n5                                   Бостонское чаепитие   \n...                                                 ...   \n6481  Онлайн: 15:00 (а)Синхрон-lite. Лига старта. Эп...   \n6482                          Онлайн: 19:00 Зелёный шум   \n6483  Онлайн: 19:00 (а)Синхрон-lite. Лига старта. Эп...   \n6484      Онлайн: 22:00 Не числом, а умением - 2 (NEW!)   \n6485                 Онлайн: 19:00 Не числом, а умением   \n\n                     dateStart                   dateEnd     type  \nid                                                                 \n1    2003-07-24 20:00:00+00:00 2003-07-26 20:00:00+00:00  Обычный  \n2    2003-08-08 20:00:00+00:00 2003-08-08 20:00:00+00:00  Обычный  \n3    2003-11-21 21:00:00+00:00 2003-11-23 21:00:00+00:00  Обычный  \n4    2003-10-10 20:00:00+00:00 2003-10-11 20:00:00+00:00  Обычный  \n5    2003-10-09 20:00:00+00:00 2003-10-12 20:00:00+00:00  Обычный  \n...                        ...                       ...      ...  \n6481 2020-05-05 12:00:00+00:00 2020-05-05 15:00:00+00:00  Обычный  \n6482 2020-05-07 16:00:00+00:00 2020-05-07 18:30:00+00:00  Обычный  \n6483 2020-05-08 16:00:00+00:00 2020-05-08 18:30:00+00:00  Обычный  \n6484 2020-05-04 19:00:00+00:00 2020-05-04 20:40:00+00:00  Обычный  \n6485 2020-05-06 16:00:00+00:00 2020-05-06 17:45:00+00:00  Обычный  \n\n[5047 rows x 4 columns]",
      "text/html": "<div>\n<style scoped>\n    .dataframe tbody tr th:only-of-type {\n        vertical-align: middle;\n    }\n\n    .dataframe tbody tr th {\n        vertical-align: top;\n    }\n\n    .dataframe thead th {\n        text-align: right;\n    }\n</style>\n<table border=\"1\" class=\"dataframe\">\n  <thead>\n    <tr style=\"text-align: right;\">\n      <th></th>\n      <th>name</th>\n      <th>dateStart</th>\n      <th>dateEnd</th>\n      <th>type</th>\n    </tr>\n    <tr>\n      <th>id</th>\n      <th></th>\n      <th></th>\n      <th></th>\n      <th></th>\n    </tr>\n  </thead>\n  <tbody>\n    <tr>\n      <th>1</th>\n      <td>Чемпионат Южного Кавказа</td>\n      <td>2003-07-24 20:00:00+00:00</td>\n      <td>2003-07-26 20:00:00+00:00</td>\n      <td>Обычный</td>\n    </tr>\n    <tr>\n      <th>2</th>\n      <td>Летние зори</td>\n      <td>2003-08-08 20:00:00+00:00</td>\n      <td>2003-08-08 20:00:00+00:00</td>\n      <td>Обычный</td>\n    </tr>\n    <tr>\n      <th>3</th>\n      <td>Турнир в Ижевске</td>\n      <td>2003-11-21 21:00:00+00:00</td>\n      <td>2003-11-23 21:00:00+00:00</td>\n      <td>Обычный</td>\n    </tr>\n    <tr>\n      <th>4</th>\n      <td>Чемпионат Украины. Переходной этап</td>\n      <td>2003-10-10 20:00:00+00:00</td>\n      <td>2003-10-11 20:00:00+00:00</td>\n      <td>Обычный</td>\n    </tr>\n    <tr>\n      <th>5</th>\n      <td>Бостонское чаепитие</td>\n      <td>2003-10-09 20:00:00+00:00</td>\n      <td>2003-10-12 20:00:00+00:00</td>\n      <td>Обычный</td>\n    </tr>\n    <tr>\n      <th>...</th>\n      <td>...</td>\n      <td>...</td>\n      <td>...</td>\n      <td>...</td>\n    </tr>\n    <tr>\n      <th>6481</th>\n      <td>Онлайн: 15:00 (а)Синхрон-lite. Лига старта. Эп...</td>\n      <td>2020-05-05 12:00:00+00:00</td>\n      <td>2020-05-05 15:00:00+00:00</td>\n      <td>Обычный</td>\n    </tr>\n    <tr>\n      <th>6482</th>\n      <td>Онлайн: 19:00 Зелёный шум</td>\n      <td>2020-05-07 16:00:00+00:00</td>\n      <td>2020-05-07 18:30:00+00:00</td>\n      <td>Обычный</td>\n    </tr>\n    <tr>\n      <th>6483</th>\n      <td>Онлайн: 19:00 (а)Синхрон-lite. Лига старта. Эп...</td>\n      <td>2020-05-08 16:00:00+00:00</td>\n      <td>2020-05-08 18:30:00+00:00</td>\n      <td>Обычный</td>\n    </tr>\n    <tr>\n      <th>6484</th>\n      <td>Онлайн: 22:00 Не числом, а умением - 2 (NEW!)</td>\n      <td>2020-05-04 19:00:00+00:00</td>\n      <td>2020-05-04 20:40:00+00:00</td>\n      <td>Обычный</td>\n    </tr>\n    <tr>\n      <th>6485</th>\n      <td>Онлайн: 19:00 Не числом, а умением</td>\n      <td>2020-05-06 16:00:00+00:00</td>\n      <td>2020-05-06 17:45:00+00:00</td>\n      <td>Обычный</td>\n    </tr>\n  </tbody>\n</table>\n<p>5047 rows × 4 columns</p>\n</div>"
     },
     "execution_count": 4,
     "metadata": {},
     "output_type": "execute_result"
    }
   ],
   "source": [
    "with open(\"tournaments.pkl\", \"rb\") as f:\n",
    "    tournaments = pickle.load(f)\n",
    "\n",
    "tournaments = pd.DataFrame(tournaments).T.set_index(\"id\")\n",
    "tournaments['type'] = tournaments['type'].apply(lambda x: x['name'])\n",
    "tournaments = tournaments[['name', 'dateStart', 'dateEnd', 'type']]\n",
    "tournaments = tournaments.loc[tournaments['type'].isin([\"Обычный\", \"Синхрон\", \"Строго синхронный\"])]\n",
    "tournaments = tournaments.dropna()\n",
    "tournaments['dateStart'] = pd.to_datetime(tournaments['dateStart'], utc=True, errors='raise')\n",
    "tournaments['dateEnd'] = pd.to_datetime(tournaments['dateEnd'], utc=True, errors='raise')\n",
    "tournaments"
   ],
   "metadata": {
    "collapsed": false,
    "pycharm": {
     "name": "#%%\n"
    }
   }
  },
  {
   "cell_type": "code",
   "execution_count": 5,
   "outputs": [
    {
     "name": "stdout",
     "output_type": "stream",
     "text": [
      "Train size: 622, test size: 362\n"
     ]
    }
   ],
   "source": [
    "train_tours = tournaments.loc[pd.to_datetime(tournaments['dateStart']).dt.year==2019]\n",
    "test_tours = tournaments.loc[pd.to_datetime(tournaments['dateStart']).dt.year==2020]\n",
    "print(f\"Train size: {len(train_tours)}, test size: {len(test_tours)}\")"
   ],
   "metadata": {
    "collapsed": false,
    "pycharm": {
     "name": "#%%\n"
    }
   }
  },
  {
   "cell_type": "code",
   "execution_count": 6,
   "outputs": [],
   "source": [
    "train_res = results.loc[results['id'].isin(train_tours.index)].reset_index(drop=True)\n",
    "test_res = results.loc[results['id'].isin(test_tours.index)].reset_index(drop=True)"
   ],
   "metadata": {
    "collapsed": false,
    "pycharm": {
     "name": "#%%\n"
    }
   }
  },
  {
   "cell_type": "code",
   "execution_count": 7,
   "outputs": [
    {
     "name": "stdout",
     "output_type": "stream",
     "text": [
      "17216 players played both in 2019 and 2020\n"
     ]
    }
   ],
   "source": [
    "important_players = players.loc[players.index.isin(train_res['player_id']) & players.index.isin(test_res['player_id'])]\n",
    "players_count = len(important_players)\n",
    "print(f\"{players_count} players played both in 2019 and 2020\")"
   ],
   "metadata": {
    "collapsed": false,
    "pycharm": {
     "name": "#%%\n"
    }
   }
  },
  {
   "cell_type": "code",
   "execution_count": 8,
   "outputs": [],
   "source": [
    "imp_train_res = train_res.loc[train_res['player_id'].isin(important_players.index)]\n",
    "imp_test_res = test_res.loc[test_res['player_id'].isin(important_players.index)]"
   ],
   "metadata": {
    "collapsed": false,
    "pycharm": {
     "name": "#%%\n"
    }
   }
  },
  {
   "cell_type": "markdown",
   "source": [
    "# 2. Baseline"
   ],
   "metadata": {
    "collapsed": false,
    "pycharm": {
     "name": "#%% md\n"
    }
   }
  },
  {
   "cell_type": "code",
   "execution_count": 9,
   "outputs": [
    {
     "name": "stdout",
     "output_type": "stream",
     "text": [
      "29002 questions in train\n"
     ]
    }
   ],
   "source": [
    "total_questions = 0\n",
    "for t_id, group in imp_train_res.groupby(\"id\"):\n",
    "    total_questions += group['mask'].str.len().max()\n",
    "questions_count = int(total_questions)\n",
    "print(f\"{questions_count} questions in train\")"
   ],
   "metadata": {
    "collapsed": false,
    "pycharm": {
     "name": "#%%\n"
    }
   }
  },
  {
   "cell_type": "code",
   "execution_count": 10,
   "outputs": [
    {
     "data": {
      "text/plain": "  0%|          | 0/610 [00:00<?, ?it/s]",
      "application/vnd.jupyter.widget-view+json": {
       "version_major": 2,
       "version_minor": 0,
       "model_id": "47f0e23852084963b2e61aada95050ab"
      }
     },
     "metadata": {},
     "output_type": "display_data"
    }
   ],
   "source": [
    "acc = []\n",
    "for t_id, group in tqdm(imp_train_res.groupby(\"id\")):\n",
    "    curr = pd.DataFrame(group['mask'].apply(list).to_list()).add_prefix(\"q_\")\n",
    "    curr['player_id'] = group['player_id'].reset_index(drop=True)\n",
    "    curr = pd.wide_to_long(curr, \"q_\", i=\"player_id\", j=\"question_id\").reset_index()\n",
    "    curr['question_id'] = str(t_id) + '_' + curr['question_id'].astype(str)\n",
    "    curr = curr.rename(columns={\"q_\": \"result\"})\n",
    "    acc.append(curr.dropna())\n",
    "\n",
    "long_train = pd.concat(acc)\n",
    "sparse_train_df = pd.get_dummies(long_train, columns=['player_id', 'question_id'], sparse=True)"
   ],
   "metadata": {
    "collapsed": false,
    "pycharm": {
     "name": "#%%\n"
    }
   }
  },
  {
   "cell_type": "code",
   "execution_count": 11,
   "outputs": [],
   "source": [
    "assert players_count + questions_count + 1 == len(sparse_train_df.columns)"
   ],
   "metadata": {
    "collapsed": false,
    "pycharm": {
     "name": "#%%\n"
    }
   }
  },
  {
   "cell_type": "code",
   "execution_count": 12,
   "outputs": [
    {
     "data": {
      "text/plain": "LogisticRegression(solver='sag')"
     },
     "execution_count": 12,
     "metadata": {},
     "output_type": "execute_result"
    }
   ],
   "source": [
    "X_train = sparse_train_df.drop(columns=\"result\").sparse.to_coo().tocsr()\n",
    "y_train = sparse_train_df['result']\n",
    "\n",
    "model = LogisticRegression(solver='sag')\n",
    "model.fit(X_train, y_train)"
   ],
   "metadata": {
    "collapsed": false,
    "pycharm": {
     "name": "#%%\n"
    }
   }
  },
  {
   "cell_type": "code",
   "execution_count": 38,
   "outputs": [],
   "source": [
    "def get_force_difficulty(train_df, logreg_model):\n",
    "    player_force = {}\n",
    "    question_difficulty = {}\n",
    "    for col, coef in zip(train_df.drop(columns=\"result\").columns, logreg_model.coef_.flatten()):\n",
    "        if col.startswith(\"player_id\"):\n",
    "            player_force[int(col[len(\"player_id_\"):])] = coef\n",
    "        elif col.startswith(\"question_id\"):\n",
    "            question_difficulty[col[len(\"question_id_\"):]] = -coef\n",
    "    return player_force, question_difficulty"
   ],
   "metadata": {
    "collapsed": false,
    "pycharm": {
     "name": "#%%\n"
    }
   }
  },
  {
   "cell_type": "code",
   "execution_count": 39,
   "outputs": [],
   "source": [
    "player_force, question_difficulty = get_force_difficulty(sparse_train_df, model)"
   ],
   "metadata": {
    "collapsed": false,
    "pycharm": {
     "name": "#%%\n"
    }
   }
  },
  {
   "cell_type": "code",
   "execution_count": 40,
   "outputs": [
    {
     "name": "stderr",
     "output_type": "stream",
     "text": [
      "/tmp/ipykernel_47189/131241550.py:1: SettingWithCopyWarning: \n",
      "A value is trying to be set on a copy of a slice from a DataFrame.\n",
      "Try using .loc[row_indexer,col_indexer] = value instead\n",
      "\n",
      "See the caveats in the documentation: https://pandas.pydata.org/pandas-docs/stable/user_guide/indexing.html#returning-a-view-versus-a-copy\n",
      "  important_players['baseline_force'] = important_players.index.map(player_force)\n"
     ]
    },
    {
     "data": {
      "text/plain": "           id        name     patronymic       surname  baseline_force\n0       27403      Максим     Михайлович         Руссо        3.379636\n1        4270  Александра   Владимировна        Брутер        3.253530\n2       28751        Иван     Николаевич       Семушин        3.199325\n3       27822      Михаил   Владимирович     Савченков        3.107415\n4       30270      Сергей     Леонидович       Спешков        3.048867\n...       ...         ...            ...           ...             ...\n17211  211016        Баир    Арсаланович  Батожаргалов       -3.600054\n17212  211022       Антон       Игоревич         Козик       -3.600059\n17213  211015        Иван   Владимирович       Батурин       -3.600061\n17214  211021      Даниил  Александрович    Керченский       -3.600067\n17215  211019   Александр  Александрович       Комаров       -3.600081\n\n[17216 rows x 5 columns]",
      "text/html": "<div>\n<style scoped>\n    .dataframe tbody tr th:only-of-type {\n        vertical-align: middle;\n    }\n\n    .dataframe tbody tr th {\n        vertical-align: top;\n    }\n\n    .dataframe thead th {\n        text-align: right;\n    }\n</style>\n<table border=\"1\" class=\"dataframe\">\n  <thead>\n    <tr style=\"text-align: right;\">\n      <th></th>\n      <th>id</th>\n      <th>name</th>\n      <th>patronymic</th>\n      <th>surname</th>\n      <th>baseline_force</th>\n    </tr>\n  </thead>\n  <tbody>\n    <tr>\n      <th>0</th>\n      <td>27403</td>\n      <td>Максим</td>\n      <td>Михайлович</td>\n      <td>Руссо</td>\n      <td>3.379636</td>\n    </tr>\n    <tr>\n      <th>1</th>\n      <td>4270</td>\n      <td>Александра</td>\n      <td>Владимировна</td>\n      <td>Брутер</td>\n      <td>3.253530</td>\n    </tr>\n    <tr>\n      <th>2</th>\n      <td>28751</td>\n      <td>Иван</td>\n      <td>Николаевич</td>\n      <td>Семушин</td>\n      <td>3.199325</td>\n    </tr>\n    <tr>\n      <th>3</th>\n      <td>27822</td>\n      <td>Михаил</td>\n      <td>Владимирович</td>\n      <td>Савченков</td>\n      <td>3.107415</td>\n    </tr>\n    <tr>\n      <th>4</th>\n      <td>30270</td>\n      <td>Сергей</td>\n      <td>Леонидович</td>\n      <td>Спешков</td>\n      <td>3.048867</td>\n    </tr>\n    <tr>\n      <th>...</th>\n      <td>...</td>\n      <td>...</td>\n      <td>...</td>\n      <td>...</td>\n      <td>...</td>\n    </tr>\n    <tr>\n      <th>17211</th>\n      <td>211016</td>\n      <td>Баир</td>\n      <td>Арсаланович</td>\n      <td>Батожаргалов</td>\n      <td>-3.600054</td>\n    </tr>\n    <tr>\n      <th>17212</th>\n      <td>211022</td>\n      <td>Антон</td>\n      <td>Игоревич</td>\n      <td>Козик</td>\n      <td>-3.600059</td>\n    </tr>\n    <tr>\n      <th>17213</th>\n      <td>211015</td>\n      <td>Иван</td>\n      <td>Владимирович</td>\n      <td>Батурин</td>\n      <td>-3.600061</td>\n    </tr>\n    <tr>\n      <th>17214</th>\n      <td>211021</td>\n      <td>Даниил</td>\n      <td>Александрович</td>\n      <td>Керченский</td>\n      <td>-3.600067</td>\n    </tr>\n    <tr>\n      <th>17215</th>\n      <td>211019</td>\n      <td>Александр</td>\n      <td>Александрович</td>\n      <td>Комаров</td>\n      <td>-3.600081</td>\n    </tr>\n  </tbody>\n</table>\n<p>17216 rows × 5 columns</p>\n</div>"
     },
     "execution_count": 40,
     "metadata": {},
     "output_type": "execute_result"
    }
   ],
   "source": [
    "important_players['baseline_force'] = important_players.index.map(player_force)\n",
    "important_players.sort_values('baseline_force', ascending=False).reset_index()"
   ],
   "metadata": {
    "collapsed": false,
    "pycharm": {
     "name": "#%%\n"
    }
   }
  },
  {
   "cell_type": "markdown",
   "source": [
    "Топ игроков выглядит весьма правдоподобно!"
   ],
   "metadata": {
    "collapsed": false,
    "pycharm": {
     "name": "#%% md\n"
    }
   }
  },
  {
   "cell_type": "markdown",
   "source": [
    "# 3. Ranking Evaluation"
   ],
   "metadata": {
    "collapsed": false,
    "pycharm": {
     "name": "#%% md\n"
    }
   }
  },
  {
   "cell_type": "markdown",
   "source": [
    "Для первого приближения силу команды будем считать как среднее сил игроков.\n",
    "У такого подхода есть очевидный минус в том, что количество игроков в команде не учитывается, и сила одного Семушина будет примерно равна силе полного Корабела, но зато это позволяет спокойно забить на игроков, которые не играли в 2019, и для которых у нас нет рейтинга."
   ],
   "metadata": {
    "collapsed": false,
    "pycharm": {
     "name": "#%% md\n"
    }
   }
  },
  {
   "cell_type": "code",
   "execution_count": 24,
   "outputs": [],
   "source": [
    "def rank_eval(test_res, player_force):\n",
    "    eval = test_res.copy()\n",
    "    eval['player_force'] = eval[\"player_id\"].map(player_force)\n",
    "    eval = eval.groupby([\"id\", \"team_id\", \"position\"])['player_force'].mean().reset_index().rename(columns={\"player_force\": \"team_force\"})\n",
    "    eval['baseline_rank'] = eval.groupby(\"id\")['team_force'].rank(ascending=False)\n",
    "\n",
    "    spearman = []\n",
    "    kendall = []\n",
    "    for t_id, group in eval.groupby(\"id\"):\n",
    "        spearman.append(spearmanr(group['position'].values, group['baseline_rank'].values, nan_policy='raise').correlation)\n",
    "        kendall.append(kendalltau(group['position'].values, group['baseline_rank'].values, nan_policy='raise').correlation)\n",
    "\n",
    "    return (np.mean(spearman), np.std(spearman)), (np.mean(kendall), np.std(kendall))"
   ],
   "metadata": {
    "collapsed": false,
    "pycharm": {
     "name": "#%%\n"
    }
   }
  },
  {
   "cell_type": "code",
   "execution_count": 25,
   "outputs": [
    {
     "name": "stdout",
     "output_type": "stream",
     "text": [
      "Корреляция Спирмена: 0.78±0.13\n",
      "Корреляция Кендалла: 0.62±0.12\n"
     ]
    }
   ],
   "source": [
    "spearman, kendall = rank_eval(imp_test_res, player_force)\n",
    "print(f\"Корреляция Спирмена: {spearman[0]:.2f}±{spearman[1]:.2f}\")\n",
    "print(f\"Корреляция Кендалла: {kendall[0]:.2f}±{kendall[1]:.2f}\")"
   ],
   "metadata": {
    "collapsed": false,
    "pycharm": {
     "name": "#%%\n"
    }
   }
  },
  {
   "cell_type": "markdown",
   "source": [
    "# 4. EM-algorithm"
   ],
   "metadata": {
    "collapsed": false,
    "pycharm": {
     "name": "#%% md\n"
    }
   }
  },
  {
   "cell_type": "markdown",
   "source": [
    "Введем скрытую переменную z, которая будет означать, что игрок взял вопрос, играя в конкретной команде. Тогда мы получим поставку precense-only с 0, т.к. если команда не взяла вопрос, то и ни один игрок в ней не взял, а если взяла, то для каждого игрока неизвестно насколько он в этом поучаствовал.\n",
    "\n",
    "Тогда:\n",
    "$$ p(z_i=0 | y_i=0, p_i, q_i, \\theta) = 1 .$$\n",
    "\n",
    "Раскроем условную вероятность $z_i=1, y_i=1$:\n",
    "$$ p(z_i=1, y_i=1 | p_i, q_i, \\theta) = p(z_i=1 | y_i=1, p_i, q_i, \\theta) * p(y_i=1 | p_i, q_i, \\theta). $$\n",
    "\n",
    "Последний член означает вероятность того, что команда игрока взяла вопрос, её можно выразить так:\n",
    "$$ p(y_i=1 | p_i, q_i, \\theta) = 1 - \\prod_{j \\in T_i} \\left( 1 - p \\left(z_j=1, y_j=1 | p_j, q_j, \\theta \\right) \\right), $$ где $j \\in T_j$ означает, что произведение идет по игрокам команды игрока $p_i$.\n",
    "\n",
    "Тогда:\n",
    "$$ p(z_i=1 | y_i=1, p_i, q_i, \\theta) = \\frac{ p(z_i=1, y_i=1 | p_i, q_i, \\theta) } { 1 - \\prod_{j \\in T_i} \\left( 1 - p \\left(z_j=1, y_j=1 | p_j, q_j, \\theta \\right) \\right) }. $$\n",
    "\n",
    "Таким образом, на M-шаге мы получаем вероятности $p(y_i=1)$ логистической регрессией аналогично бейзлайну, но с таргетом подмененным на $z_i$, и эти вероятности используем на Е-шаге подставляя в формулу выше вместо $ p(z_i=1, y_i=1 | p_i, q_i, \\theta) $ (соответствует получению матожидание интегрированием по $z_i$). Для инициализации алгоритма берем вероятности $p(y_i=1)$ из бейзлайна."
   ],
   "metadata": {
    "collapsed": false,
    "pycharm": {
     "name": "#%% md\n"
    }
   }
  },
  {
   "cell_type": "code",
   "execution_count": 18,
   "outputs": [
    {
     "data": {
      "text/plain": "  0%|          | 0/610 [00:00<?, ?it/s]",
      "application/vnd.jupyter.widget-view+json": {
       "version_major": 2,
       "version_minor": 0,
       "model_id": "e1f8005fc38c4170b798676e4e741426"
      }
     },
     "metadata": {},
     "output_type": "display_data"
    }
   ],
   "source": [
    "acc = []\n",
    "for t_id, group in tqdm(imp_train_res.groupby(\"id\")):\n",
    "    curr = pd.DataFrame(group['mask'].apply(list).to_list()).add_prefix(\"q_\")\n",
    "    curr['player_id'] = group['player_id'].reset_index(drop=True)\n",
    "    curr['team_id'] = group['team_id'].reset_index(drop=True)\n",
    "    curr = pd.wide_to_long(curr, \"q_\", i=\"player_id\", j=\"question_id\").reset_index()\n",
    "    curr['question_id'] = str(t_id) + '_' + curr['question_id'].astype(str)\n",
    "    curr = curr.rename(columns={\"q_\": \"result\"})\n",
    "    acc.append(curr.dropna())\n",
    "\n",
    "long_train_em = pd.concat(acc)"
   ],
   "metadata": {
    "collapsed": false,
    "pycharm": {
     "name": "#%%\n"
    }
   }
  },
  {
   "cell_type": "code",
   "execution_count": 44,
   "outputs": [],
   "source": [
    "def sigma(x):\n",
    "    return 1 / (1 + np.exp(-x))\n",
    "\n",
    "def inv_sigma(x, eps=1e-8):\n",
    "    x = np.clip(x, eps, 1-eps)\n",
    "    return np.log(x / (1-x))"
   ],
   "metadata": {
    "collapsed": false,
    "pycharm": {
     "name": "#%%\n"
    }
   }
  },
  {
   "cell_type": "code",
   "execution_count": 45,
   "outputs": [
    {
     "name": "stdout",
     "output_type": "stream",
     "text": [
      "===== Итерация 0 =====\n",
      "Корреляция Спирмена: 0.7727±0.1330\n",
      "Корреляция Кендалла: 0.6180±0.1240\n",
      "===== Итерация 1 =====\n",
      "Корреляция Спирмена: 0.7719±0.1278\n",
      "Корреляция Кендалла: 0.6160±0.1203\n",
      "===== Итерация 2 =====\n",
      "Корреляция Спирмена: 0.7744±0.1220\n",
      "Корреляция Кендалла: 0.6173±0.1177\n",
      "===== Итерация 3 =====\n",
      "Корреляция Спирмена: 0.7744±0.1218\n",
      "Корреляция Кендалла: 0.6176±0.1174\n",
      "===== Итерация 4 =====\n",
      "Корреляция Спирмена: 0.7741±0.1223\n",
      "Корреляция Кендалла: 0.6170±0.1177\n"
     ]
    }
   ],
   "source": [
    "N_ITER = 5\n",
    "\n",
    "probs = model.predict_proba(X_train)[:, 1]\n",
    "for i_iter in range(N_ITER):\n",
    "    # E-step\n",
    "    long_train_em['p'] = probs\n",
    "    long_train_em['1-p'] = 1 - probs\n",
    "    z = long_train_em['p'] / (1 - long_train_em.groupby(['team_id', 'question_id'])['1-p'].transform('prod')) * long_train_em['result'].astype(int)\n",
    "\n",
    "    # M-step\n",
    "    # LogisticRegression from sklearn only deals with target-labels, not probas, so we have to use a workaround with LinearRegression\n",
    "    m_model = LinearRegression().fit(X_train, inv_sigma(z))\n",
    "    probs = sigma(m_model.predict(X_train))\n",
    "\n",
    "    player_force, _ = get_force_difficulty(sparse_train_df, m_model)\n",
    "    spearman, kendall = rank_eval(imp_test_res, player_force)\n",
    "    print(\"=\"*5, f\"Итерация {i_iter}\", \"=\"*5)\n",
    "    print(f\"Корреляция Спирмена: {spearman[0]:.4f}±{spearman[1]:.4f}\")\n",
    "    print(f\"Корреляция Кендалла: {kendall[0]:.4f}±{kendall[1]:.4f}\")"
   ],
   "metadata": {
    "collapsed": false,
    "pycharm": {
     "name": "#%%\n"
    }
   }
  },
  {
   "cell_type": "markdown",
   "source": [
    "Рост метрик если и есть, то крайне незначительный."
   ],
   "metadata": {
    "collapsed": false,
    "pycharm": {
     "name": "#%% md\n"
    }
   }
  },
  {
   "cell_type": "markdown",
   "source": [
    "# 5. Tournaments difficulty"
   ],
   "metadata": {
    "collapsed": false,
    "pycharm": {
     "name": "#%% md\n"
    }
   }
  },
  {
   "cell_type": "markdown",
   "source": [
    "## a. Baseline"
   ],
   "metadata": {
    "collapsed": false,
    "pycharm": {
     "name": "#%% md\n"
    }
   }
  },
  {
   "cell_type": "code",
   "execution_count": 54,
   "outputs": [
    {
     "data": {
      "text/plain": "     t_id                                   t_name  difficulty\n602  6149  Чемпионат Санкт-Петербурга. Первая лига    4.319260\n496  5928                              Угрюмый Ёрш    2.222249\n348  5684               Синхрон высшей лиги Москвы    2.036558\n37   5159             Первенство правого полушария    1.981073\n580  6101                       Воображаемый музей    1.908550\n267  5587                         Записки охотника    1.681323\n7    5025                            Кубок городов    1.648818\n356  5693                         Знание – Сила VI    1.630527\n20   5083                        Ускользающая сова    1.622329\n167  5465                         Чемпионат России    1.500946\n505  5943          Чемпионат Мира. Этап 2 Группа С    1.479161\n504  5942         Чемпионат Мира. Этап 2. Группа В    1.461083\n212  5515  Чемпионат Минска. Лига А. Тур четвёртый    1.454908\n372  5741                   All Cats Are Beautiful    1.445194\n43   5186         VERSUS: Коробейников vs. Матвеев    1.421878\n38   5161                                Антибинго    1.416673\n412  5795                             Кубок Москвы    1.412442\n127  5421                     Львов зимой. Адвокат    1.392580\n502  5940         Чемпионат Мира. Этап 1. Группа С    1.375550\n498  5930   Зеркало мемориала памяти Михаила Басса    1.361643",
      "text/html": "<div>\n<style scoped>\n    .dataframe tbody tr th:only-of-type {\n        vertical-align: middle;\n    }\n\n    .dataframe tbody tr th {\n        vertical-align: top;\n    }\n\n    .dataframe thead th {\n        text-align: right;\n    }\n</style>\n<table border=\"1\" class=\"dataframe\">\n  <thead>\n    <tr style=\"text-align: right;\">\n      <th></th>\n      <th>t_id</th>\n      <th>t_name</th>\n      <th>difficulty</th>\n    </tr>\n  </thead>\n  <tbody>\n    <tr>\n      <th>602</th>\n      <td>6149</td>\n      <td>Чемпионат Санкт-Петербурга. Первая лига</td>\n      <td>4.319260</td>\n    </tr>\n    <tr>\n      <th>496</th>\n      <td>5928</td>\n      <td>Угрюмый Ёрш</td>\n      <td>2.222249</td>\n    </tr>\n    <tr>\n      <th>348</th>\n      <td>5684</td>\n      <td>Синхрон высшей лиги Москвы</td>\n      <td>2.036558</td>\n    </tr>\n    <tr>\n      <th>37</th>\n      <td>5159</td>\n      <td>Первенство правого полушария</td>\n      <td>1.981073</td>\n    </tr>\n    <tr>\n      <th>580</th>\n      <td>6101</td>\n      <td>Воображаемый музей</td>\n      <td>1.908550</td>\n    </tr>\n    <tr>\n      <th>267</th>\n      <td>5587</td>\n      <td>Записки охотника</td>\n      <td>1.681323</td>\n    </tr>\n    <tr>\n      <th>7</th>\n      <td>5025</td>\n      <td>Кубок городов</td>\n      <td>1.648818</td>\n    </tr>\n    <tr>\n      <th>356</th>\n      <td>5693</td>\n      <td>Знание – Сила VI</td>\n      <td>1.630527</td>\n    </tr>\n    <tr>\n      <th>20</th>\n      <td>5083</td>\n      <td>Ускользающая сова</td>\n      <td>1.622329</td>\n    </tr>\n    <tr>\n      <th>167</th>\n      <td>5465</td>\n      <td>Чемпионат России</td>\n      <td>1.500946</td>\n    </tr>\n    <tr>\n      <th>505</th>\n      <td>5943</td>\n      <td>Чемпионат Мира. Этап 2 Группа С</td>\n      <td>1.479161</td>\n    </tr>\n    <tr>\n      <th>504</th>\n      <td>5942</td>\n      <td>Чемпионат Мира. Этап 2. Группа В</td>\n      <td>1.461083</td>\n    </tr>\n    <tr>\n      <th>212</th>\n      <td>5515</td>\n      <td>Чемпионат Минска. Лига А. Тур четвёртый</td>\n      <td>1.454908</td>\n    </tr>\n    <tr>\n      <th>372</th>\n      <td>5741</td>\n      <td>All Cats Are Beautiful</td>\n      <td>1.445194</td>\n    </tr>\n    <tr>\n      <th>43</th>\n      <td>5186</td>\n      <td>VERSUS: Коробейников vs. Матвеев</td>\n      <td>1.421878</td>\n    </tr>\n    <tr>\n      <th>38</th>\n      <td>5161</td>\n      <td>Антибинго</td>\n      <td>1.416673</td>\n    </tr>\n    <tr>\n      <th>412</th>\n      <td>5795</td>\n      <td>Кубок Москвы</td>\n      <td>1.412442</td>\n    </tr>\n    <tr>\n      <th>127</th>\n      <td>5421</td>\n      <td>Львов зимой. Адвокат</td>\n      <td>1.392580</td>\n    </tr>\n    <tr>\n      <th>502</th>\n      <td>5940</td>\n      <td>Чемпионат Мира. Этап 1. Группа С</td>\n      <td>1.375550</td>\n    </tr>\n    <tr>\n      <th>498</th>\n      <td>5930</td>\n      <td>Зеркало мемориала памяти Михаила Басса</td>\n      <td>1.361643</td>\n    </tr>\n  </tbody>\n</table>\n</div>"
     },
     "execution_count": 54,
     "metadata": {},
     "output_type": "execute_result"
    }
   ],
   "source": [
    "_, question_difficulty_baseline = get_force_difficulty(sparse_train_df, model)\n",
    "questions_baseline = pd.DataFrame.from_dict(question_difficulty_baseline, orient='index', columns=['difficulty']).reset_index()\n",
    "questions_baseline['t_id'] = questions_baseline['index'].str.split('_').str[0].astype(int)\n",
    "questions_baseline['t_name'] = questions_baseline['t_id'].map(tournaments['name'])\n",
    "tours_baseline = questions_baseline.groupby(['t_id', 't_name'])['difficulty'].mean().reset_index()\n",
    "tours_baseline.sort_values(\"difficulty\", ascending=False).head(20)"
   ],
   "metadata": {
    "collapsed": false,
    "pycharm": {
     "name": "#%%\n"
    }
   }
  },
  {
   "cell_type": "markdown",
   "source": [
    "#### Топ-3 сложнейших"
   ],
   "metadata": {
    "collapsed": false,
    "pycharm": {
     "name": "#%% md\n"
    }
   }
  },
  {
   "cell_type": "code",
   "execution_count": 49,
   "outputs": [
    {
     "data": {
      "text/plain": "        index  difficulty  t_id                        t_name\n7822  5465_39    5.505694  5465              Чемпионат России\n7853  5465_67    5.505693  5465              Чемпионат России\n1547  5159_34    5.447280  5159  Первенство правого полушария",
      "text/html": "<div>\n<style scoped>\n    .dataframe tbody tr th:only-of-type {\n        vertical-align: middle;\n    }\n\n    .dataframe tbody tr th {\n        vertical-align: top;\n    }\n\n    .dataframe thead th {\n        text-align: right;\n    }\n</style>\n<table border=\"1\" class=\"dataframe\">\n  <thead>\n    <tr style=\"text-align: right;\">\n      <th></th>\n      <th>index</th>\n      <th>difficulty</th>\n      <th>t_id</th>\n      <th>t_name</th>\n    </tr>\n  </thead>\n  <tbody>\n    <tr>\n      <th>7822</th>\n      <td>5465_39</td>\n      <td>5.505694</td>\n      <td>5465</td>\n      <td>Чемпионат России</td>\n    </tr>\n    <tr>\n      <th>7853</th>\n      <td>5465_67</td>\n      <td>5.505693</td>\n      <td>5465</td>\n      <td>Чемпионат России</td>\n    </tr>\n    <tr>\n      <th>1547</th>\n      <td>5159_34</td>\n      <td>5.447280</td>\n      <td>5159</td>\n      <td>Первенство правого полушария</td>\n    </tr>\n  </tbody>\n</table>\n</div>"
     },
     "execution_count": 49,
     "metadata": {},
     "output_type": "execute_result"
    }
   ],
   "source": [
    "questions_baseline.sort_values(\"difficulty\", ascending=False).head(3)"
   ],
   "metadata": {
    "collapsed": false,
    "pycharm": {
     "name": "#%%\n"
    }
   }
  },
  {
   "cell_type": "markdown",
   "source": [
    "Топ-1. [Чемпионат России - 2019. Тур 3. Вопрос 40.](https://rc19-quest.livejournal.com/1420.html?thread=17804#t17804)\n",
    "Топ-2. [Чемпионат России - 2019. Тур 5. Вопрос 68.](https://rc19-quest.livejournal.com/1943.html?thread=25495#t25495)\n",
    "Топ-3. [Первенство правого полушария, часть XVII. Вопрос 35.](https://db.chgk.info/question/ppp17_u.3/35)"
   ],
   "metadata": {
    "collapsed": false,
    "pycharm": {
     "name": "#%% md\n"
    }
   }
  },
  {
   "cell_type": "markdown",
   "source": [
    "#### Топ-3 простейших"
   ],
   "metadata": {
    "collapsed": false,
    "pycharm": {
     "name": "#%% md\n"
    }
   }
  },
  {
   "cell_type": "code",
   "execution_count": 50,
   "outputs": [
    {
     "data": {
      "text/plain": "         index  difficulty  t_id                t_name\n1301   5130_18   -5.383069  5130  Лига Сибири. VI тур.\n20241  5822_15   -5.341739  5822          ОВСЧ. 5 этап\n4884   5402_18   -5.307486  5402        Триптих. Осень",
      "text/html": "<div>\n<style scoped>\n    .dataframe tbody tr th:only-of-type {\n        vertical-align: middle;\n    }\n\n    .dataframe tbody tr th {\n        vertical-align: top;\n    }\n\n    .dataframe thead th {\n        text-align: right;\n    }\n</style>\n<table border=\"1\" class=\"dataframe\">\n  <thead>\n    <tr style=\"text-align: right;\">\n      <th></th>\n      <th>index</th>\n      <th>difficulty</th>\n      <th>t_id</th>\n      <th>t_name</th>\n    </tr>\n  </thead>\n  <tbody>\n    <tr>\n      <th>1301</th>\n      <td>5130_18</td>\n      <td>-5.383069</td>\n      <td>5130</td>\n      <td>Лига Сибири. VI тур.</td>\n    </tr>\n    <tr>\n      <th>20241</th>\n      <td>5822_15</td>\n      <td>-5.341739</td>\n      <td>5822</td>\n      <td>ОВСЧ. 5 этап</td>\n    </tr>\n    <tr>\n      <th>4884</th>\n      <td>5402_18</td>\n      <td>-5.307486</td>\n      <td>5402</td>\n      <td>Триптих. Осень</td>\n    </tr>\n  </tbody>\n</table>\n</div>"
     },
     "execution_count": 50,
     "metadata": {},
     "output_type": "execute_result"
    }
   ],
   "source": [
    "questions_baseline.sort_values(\"difficulty\").head(3)"
   ],
   "metadata": {
    "collapsed": false,
    "pycharm": {
     "name": "#%%\n"
    }
   }
  },
  {
   "cell_type": "markdown",
   "source": [
    "Топ-1. [Студенческая Лига Сибири – 2018/19. VI тур. Тур 2. Вопрос 19.](https://db.chgk.info/question/sls2018vi_u.2/19)\n",
    "Топ-2. [Открытый Всероссийский синхронный чемпионат — 2019/20. Этап 5. Тур 2. Вопрос 16](https://db.chgk.info/question/ovsch19.5_u.2/16)\n",
    "Топ-3. [Синхронный турнир «Триптих. Осень». Тур 2. Вопрос 19](https://db.chgk.info/question/triptosen19_u.2/19)"
   ],
   "metadata": {
    "collapsed": false,
    "pycharm": {
     "name": "#%% md\n"
    }
   }
  },
  {
   "cell_type": "markdown",
   "source": [
    "## b. EM"
   ],
   "metadata": {
    "collapsed": false,
    "pycharm": {
     "name": "#%% md\n"
    }
   }
  },
  {
   "cell_type": "code",
   "execution_count": 53,
   "outputs": [
    {
     "data": {
      "text/plain": "     t_id                                   t_name  difficulty\n602  6149  Чемпионат Санкт-Петербурга. Первая лига    9.475794\n496  5928                              Угрюмый Ёрш    6.656056\n348  5684               Синхрон высшей лиги Москвы    5.840489\n37   5159             Первенство правого полушария    5.644635\n580  6101                       Воображаемый музей    5.641221\n504  5942         Чемпионат Мира. Этап 2. Группа В    5.308680\n356  5693                         Знание – Сила VI    5.289251\n167  5465                         Чемпионат России    5.257686\n20   5083                        Ускользающая сова    5.208491\n503  5941         Чемпионат Мира. Этап 2. Группа А    5.202664\n267  5587                         Записки охотника    5.065297\n498  5930   Зеркало мемориала памяти Михаила Басса    5.012630\n508  5946         Чемпионат Мира. Этап 3. Группа В    4.963474\n505  5943          Чемпионат Мира. Этап 2 Группа С    4.920604\n212  5515  Чемпионат Минска. Лига А. Тур четвёртый    4.913172\n502  5940         Чемпионат Мира. Этап 1. Группа С    4.716836\n512  5950          Чемпионат Мира. Финал. Группа С    4.702036\n509  5947         Чемпионат Мира. Этап 3. Группа С    4.678751\n127  5421                     Львов зимой. Адвокат    4.671660\n59   5303             Мемориал Дмитрия Коноваленко    4.587432",
      "text/html": "<div>\n<style scoped>\n    .dataframe tbody tr th:only-of-type {\n        vertical-align: middle;\n    }\n\n    .dataframe tbody tr th {\n        vertical-align: top;\n    }\n\n    .dataframe thead th {\n        text-align: right;\n    }\n</style>\n<table border=\"1\" class=\"dataframe\">\n  <thead>\n    <tr style=\"text-align: right;\">\n      <th></th>\n      <th>t_id</th>\n      <th>t_name</th>\n      <th>difficulty</th>\n    </tr>\n  </thead>\n  <tbody>\n    <tr>\n      <th>602</th>\n      <td>6149</td>\n      <td>Чемпионат Санкт-Петербурга. Первая лига</td>\n      <td>9.475794</td>\n    </tr>\n    <tr>\n      <th>496</th>\n      <td>5928</td>\n      <td>Угрюмый Ёрш</td>\n      <td>6.656056</td>\n    </tr>\n    <tr>\n      <th>348</th>\n      <td>5684</td>\n      <td>Синхрон высшей лиги Москвы</td>\n      <td>5.840489</td>\n    </tr>\n    <tr>\n      <th>37</th>\n      <td>5159</td>\n      <td>Первенство правого полушария</td>\n      <td>5.644635</td>\n    </tr>\n    <tr>\n      <th>580</th>\n      <td>6101</td>\n      <td>Воображаемый музей</td>\n      <td>5.641221</td>\n    </tr>\n    <tr>\n      <th>504</th>\n      <td>5942</td>\n      <td>Чемпионат Мира. Этап 2. Группа В</td>\n      <td>5.308680</td>\n    </tr>\n    <tr>\n      <th>356</th>\n      <td>5693</td>\n      <td>Знание – Сила VI</td>\n      <td>5.289251</td>\n    </tr>\n    <tr>\n      <th>167</th>\n      <td>5465</td>\n      <td>Чемпионат России</td>\n      <td>5.257686</td>\n    </tr>\n    <tr>\n      <th>20</th>\n      <td>5083</td>\n      <td>Ускользающая сова</td>\n      <td>5.208491</td>\n    </tr>\n    <tr>\n      <th>503</th>\n      <td>5941</td>\n      <td>Чемпионат Мира. Этап 2. Группа А</td>\n      <td>5.202664</td>\n    </tr>\n    <tr>\n      <th>267</th>\n      <td>5587</td>\n      <td>Записки охотника</td>\n      <td>5.065297</td>\n    </tr>\n    <tr>\n      <th>498</th>\n      <td>5930</td>\n      <td>Зеркало мемориала памяти Михаила Басса</td>\n      <td>5.012630</td>\n    </tr>\n    <tr>\n      <th>508</th>\n      <td>5946</td>\n      <td>Чемпионат Мира. Этап 3. Группа В</td>\n      <td>4.963474</td>\n    </tr>\n    <tr>\n      <th>505</th>\n      <td>5943</td>\n      <td>Чемпионат Мира. Этап 2 Группа С</td>\n      <td>4.920604</td>\n    </tr>\n    <tr>\n      <th>212</th>\n      <td>5515</td>\n      <td>Чемпионат Минска. Лига А. Тур четвёртый</td>\n      <td>4.913172</td>\n    </tr>\n    <tr>\n      <th>502</th>\n      <td>5940</td>\n      <td>Чемпионат Мира. Этап 1. Группа С</td>\n      <td>4.716836</td>\n    </tr>\n    <tr>\n      <th>512</th>\n      <td>5950</td>\n      <td>Чемпионат Мира. Финал. Группа С</td>\n      <td>4.702036</td>\n    </tr>\n    <tr>\n      <th>509</th>\n      <td>5947</td>\n      <td>Чемпионат Мира. Этап 3. Группа С</td>\n      <td>4.678751</td>\n    </tr>\n    <tr>\n      <th>127</th>\n      <td>5421</td>\n      <td>Львов зимой. Адвокат</td>\n      <td>4.671660</td>\n    </tr>\n    <tr>\n      <th>59</th>\n      <td>5303</td>\n      <td>Мемориал Дмитрия Коноваленко</td>\n      <td>4.587432</td>\n    </tr>\n  </tbody>\n</table>\n</div>"
     },
     "execution_count": 53,
     "metadata": {},
     "output_type": "execute_result"
    }
   ],
   "source": [
    "_, question_difficulty_em = get_force_difficulty(sparse_train_df, m_model)\n",
    "questions_em = pd.DataFrame.from_dict(question_difficulty_em, orient='index', columns=['difficulty']).reset_index()\n",
    "questions_em['t_id'] = questions_em['index'].str.split('_').str[0].astype(int)\n",
    "questions_em['t_name'] = questions_em['t_id'].map(tournaments['name'])\n",
    "tours_em = questions_em.groupby(['t_id', 't_name'])['difficulty'].mean().reset_index()\n",
    "tours_em.sort_values(\"difficulty\", ascending=False).head(20)"
   ],
   "metadata": {
    "collapsed": false,
    "pycharm": {
     "name": "#%%\n"
    }
   }
  },
  {
   "cell_type": "markdown",
   "source": [
    "#### Топ-3 сложнейших"
   ],
   "metadata": {
    "collapsed": false,
    "pycharm": {
     "name": "#%% md\n"
    }
   }
  },
  {
   "cell_type": "code",
   "execution_count": 55,
   "outputs": [
    {
     "data": {
      "text/plain": "         index  difficulty  t_id                            t_name\n23943  5948_14   13.895656  5948   Чемпионат Мира. Финал. Группа А\n23853  5945_14   13.739748  5945  Чемпионат Мира. Этап 3. Группа А\n23726  5941_13   13.712981  5941  Чемпионат Мира. Этап 2. Группа А",
      "text/html": "<div>\n<style scoped>\n    .dataframe tbody tr th:only-of-type {\n        vertical-align: middle;\n    }\n\n    .dataframe tbody tr th {\n        vertical-align: top;\n    }\n\n    .dataframe thead th {\n        text-align: right;\n    }\n</style>\n<table border=\"1\" class=\"dataframe\">\n  <thead>\n    <tr style=\"text-align: right;\">\n      <th></th>\n      <th>index</th>\n      <th>difficulty</th>\n      <th>t_id</th>\n      <th>t_name</th>\n    </tr>\n  </thead>\n  <tbody>\n    <tr>\n      <th>23943</th>\n      <td>5948_14</td>\n      <td>13.895656</td>\n      <td>5948</td>\n      <td>Чемпионат Мира. Финал. Группа А</td>\n    </tr>\n    <tr>\n      <th>23853</th>\n      <td>5945_14</td>\n      <td>13.739748</td>\n      <td>5945</td>\n      <td>Чемпионат Мира. Этап 3. Группа А</td>\n    </tr>\n    <tr>\n      <th>23726</th>\n      <td>5941_13</td>\n      <td>13.712981</td>\n      <td>5941</td>\n      <td>Чемпионат Мира. Этап 2. Группа А</td>\n    </tr>\n  </tbody>\n</table>\n</div>"
     },
     "execution_count": 55,
     "metadata": {},
     "output_type": "execute_result"
    }
   ],
   "source": [
    "questions_em.sort_values(\"difficulty\", ascending=False).head(3)"
   ],
   "metadata": {
    "collapsed": false,
    "pycharm": {
     "name": "#%%\n"
    }
   }
  },
  {
   "cell_type": "markdown",
   "source": [
    "Топ-1. [XVII чемпионат мира. Тур 7. Вопрос 105](https://db.chgk.info/question/wc19_u.7/105)\n",
    "Топ-2. [XVII чемпионат мира. Тур 5. Вопрос 75](https://db.chgk.info/question/wc19_u.5/75)\n",
    "Топ-3. [XVII чемпионат мира. Тур 3. Вопрос 44](https://db.chgk.info/question/wc19_u.3/44)"
   ],
   "metadata": {
    "collapsed": false,
    "pycharm": {
     "name": "#%% md\n"
    }
   }
  },
  {
   "cell_type": "markdown",
   "source": [
    "#### Топ-3 простейших"
   ],
   "metadata": {
    "collapsed": false,
    "pycharm": {
     "name": "#%% md\n"
    }
   }
  },
  {
   "cell_type": "code",
   "execution_count": 56,
   "outputs": [
    {
     "data": {
      "text/plain": "         index  difficulty  t_id                                t_name\n13918  5614_22  -30.720552  5614  Межфакультетский кубок МГУ. Отбор №6\n12596  5578_24  -29.672814  5578  Межфакультетский кубок МГУ. Отбор №1\n13205   5593_9  -29.578290  5593  Межфакультетский кубок МГУ. Отбор №3",
      "text/html": "<div>\n<style scoped>\n    .dataframe tbody tr th:only-of-type {\n        vertical-align: middle;\n    }\n\n    .dataframe tbody tr th {\n        vertical-align: top;\n    }\n\n    .dataframe thead th {\n        text-align: right;\n    }\n</style>\n<table border=\"1\" class=\"dataframe\">\n  <thead>\n    <tr style=\"text-align: right;\">\n      <th></th>\n      <th>index</th>\n      <th>difficulty</th>\n      <th>t_id</th>\n      <th>t_name</th>\n    </tr>\n  </thead>\n  <tbody>\n    <tr>\n      <th>13918</th>\n      <td>5614_22</td>\n      <td>-30.720552</td>\n      <td>5614</td>\n      <td>Межфакультетский кубок МГУ. Отбор №6</td>\n    </tr>\n    <tr>\n      <th>12596</th>\n      <td>5578_24</td>\n      <td>-29.672814</td>\n      <td>5578</td>\n      <td>Межфакультетский кубок МГУ. Отбор №1</td>\n    </tr>\n    <tr>\n      <th>13205</th>\n      <td>5593_9</td>\n      <td>-29.578290</td>\n      <td>5593</td>\n      <td>Межфакультетский кубок МГУ. Отбор №3</td>\n    </tr>\n  </tbody>\n</table>\n</div>"
     },
     "execution_count": 56,
     "metadata": {},
     "output_type": "execute_result"
    }
   ],
   "source": [
    "questions_em.sort_values(\"difficulty\").head(3)"
   ],
   "metadata": {
    "collapsed": false,
    "pycharm": {
     "name": "#%%\n"
    }
   }
  },
  {
   "cell_type": "markdown",
   "source": [
    "Отборы межфака проводятся на пакетах из свеченых вопросов, понадерганных из базы, так что искать их особого смысла нет."
   ],
   "metadata": {
    "collapsed": false,
    "pycharm": {
     "name": "#%% md\n"
    }
   }
  },
  {
   "cell_type": "markdown",
   "source": [
    "# 6. Players"
   ],
   "metadata": {
    "collapsed": false,
    "pycharm": {
     "name": "#%% md\n"
    }
   }
  },
  {
   "cell_type": "code",
   "execution_count": 62,
   "outputs": [
    {
     "name": "stderr",
     "output_type": "stream",
     "text": [
      "/tmp/ipykernel_47189/3715618250.py:2: SettingWithCopyWarning: \n",
      "A value is trying to be set on a copy of a slice from a DataFrame.\n",
      "Try using .loc[row_indexer,col_indexer] = value instead\n",
      "\n",
      "See the caveats in the documentation: https://pandas.pydata.org/pandas-docs/stable/user_guide/indexing.html#returning-a-view-versus-a-copy\n",
      "  important_players['em_force'] = important_players.index.map(player_force_em)\n",
      "/tmp/ipykernel_47189/3715618250.py:3: SettingWithCopyWarning: \n",
      "A value is trying to be set on a copy of a slice from a DataFrame.\n",
      "Try using .loc[row_indexer,col_indexer] = value instead\n",
      "\n",
      "See the caveats in the documentation: https://pandas.pydata.org/pandas-docs/stable/user_guide/indexing.html#returning-a-view-versus-a-copy\n",
      "  important_players['questions_played'] = important_players.index.map(long_train.groupby('player_id')['result'].count().squeeze())\n"
     ]
    }
   ],
   "source": [
    "player_force_em, _ = get_force_difficulty(sparse_train_df, m_model)\n",
    "important_players['em_force'] = important_players.index.map(player_force_em)\n",
    "important_players['questions_played'] = important_players.index.map(long_train.groupby('player_id')['result'].count().squeeze())"
   ],
   "metadata": {
    "collapsed": false,
    "pycharm": {
     "name": "#%%\n"
    }
   }
  },
  {
   "cell_type": "code",
   "execution_count": 63,
   "outputs": [
    {
     "data": {
      "text/plain": "             name     patronymic       surname  baseline_force   em_force  \\\nid                                                                          \n27403      Максим     Михайлович         Руссо        3.379636  11.114611   \n4270   Александра   Владимировна        Брутер        3.253530  10.218169   \n28751        Иван     Николаевич       Семушин        3.199325  10.113092   \n27822      Михаил   Владимирович     Савченков        3.107415   9.964644   \n30270      Сергей     Леонидович       Спешков        3.048867   9.613678   \n30152       Артём      Сергеевич      Сорожкин        3.020755  10.106900   \n20691   Станислав    Григорьевич   Мереминский        2.902483  10.134549   \n18036      Михаил          Ильич  Левандовский        2.848447   9.220273   \n20207      Михаил     Леонидович       Матвеев        2.822794   9.297500   \n26089       Ирина      Сергеевна    Прокофьева        2.816753   8.722515   \n22799      Сергей       Игоревич     Николенко        2.787237   7.763981   \n21487       Борис      Яковлевич       Моносов        2.758701   9.139847   \n22935        Илья      Сергеевич       Новиков        2.756995   9.224863   \n87637       Антон   Владимирович      Саксонов        2.750904   8.484174   \n18332   Александр     Витальевич         Либер        2.747342   9.665672   \n74001       Игорь     Викторович         Мокин        2.719333   9.632250   \n21698   Александр   Владимирович       Мосягин        2.718998   9.147575   \n34328      Михаил      Сергеевич         Царёв        2.710740   9.659932   \n7008      Алексей   Владимирович         Гилёв        2.700028   9.916691   \n13689     Дмитрий  Александрович       Карякин        2.697113   8.678009   \n\n       questions_played  \nid                       \n27403              2103  \n4270               2581  \n28751              3663  \n27822              3104  \n30270              3554  \n30152              4777  \n20691              1584  \n18036              1457  \n20207               881  \n26089              1065  \n22799              2219  \n21487               948  \n22935              1589  \n87637              1194  \n18332              3715  \n74001              1176  \n21698              1112  \n34328               501  \n7008               4234  \n13689              1304  ",
      "text/html": "<div>\n<style scoped>\n    .dataframe tbody tr th:only-of-type {\n        vertical-align: middle;\n    }\n\n    .dataframe tbody tr th {\n        vertical-align: top;\n    }\n\n    .dataframe thead th {\n        text-align: right;\n    }\n</style>\n<table border=\"1\" class=\"dataframe\">\n  <thead>\n    <tr style=\"text-align: right;\">\n      <th></th>\n      <th>name</th>\n      <th>patronymic</th>\n      <th>surname</th>\n      <th>baseline_force</th>\n      <th>em_force</th>\n      <th>questions_played</th>\n    </tr>\n    <tr>\n      <th>id</th>\n      <th></th>\n      <th></th>\n      <th></th>\n      <th></th>\n      <th></th>\n      <th></th>\n    </tr>\n  </thead>\n  <tbody>\n    <tr>\n      <th>27403</th>\n      <td>Максим</td>\n      <td>Михайлович</td>\n      <td>Руссо</td>\n      <td>3.379636</td>\n      <td>11.114611</td>\n      <td>2103</td>\n    </tr>\n    <tr>\n      <th>4270</th>\n      <td>Александра</td>\n      <td>Владимировна</td>\n      <td>Брутер</td>\n      <td>3.253530</td>\n      <td>10.218169</td>\n      <td>2581</td>\n    </tr>\n    <tr>\n      <th>28751</th>\n      <td>Иван</td>\n      <td>Николаевич</td>\n      <td>Семушин</td>\n      <td>3.199325</td>\n      <td>10.113092</td>\n      <td>3663</td>\n    </tr>\n    <tr>\n      <th>27822</th>\n      <td>Михаил</td>\n      <td>Владимирович</td>\n      <td>Савченков</td>\n      <td>3.107415</td>\n      <td>9.964644</td>\n      <td>3104</td>\n    </tr>\n    <tr>\n      <th>30270</th>\n      <td>Сергей</td>\n      <td>Леонидович</td>\n      <td>Спешков</td>\n      <td>3.048867</td>\n      <td>9.613678</td>\n      <td>3554</td>\n    </tr>\n    <tr>\n      <th>30152</th>\n      <td>Артём</td>\n      <td>Сергеевич</td>\n      <td>Сорожкин</td>\n      <td>3.020755</td>\n      <td>10.106900</td>\n      <td>4777</td>\n    </tr>\n    <tr>\n      <th>20691</th>\n      <td>Станислав</td>\n      <td>Григорьевич</td>\n      <td>Мереминский</td>\n      <td>2.902483</td>\n      <td>10.134549</td>\n      <td>1584</td>\n    </tr>\n    <tr>\n      <th>18036</th>\n      <td>Михаил</td>\n      <td>Ильич</td>\n      <td>Левандовский</td>\n      <td>2.848447</td>\n      <td>9.220273</td>\n      <td>1457</td>\n    </tr>\n    <tr>\n      <th>20207</th>\n      <td>Михаил</td>\n      <td>Леонидович</td>\n      <td>Матвеев</td>\n      <td>2.822794</td>\n      <td>9.297500</td>\n      <td>881</td>\n    </tr>\n    <tr>\n      <th>26089</th>\n      <td>Ирина</td>\n      <td>Сергеевна</td>\n      <td>Прокофьева</td>\n      <td>2.816753</td>\n      <td>8.722515</td>\n      <td>1065</td>\n    </tr>\n    <tr>\n      <th>22799</th>\n      <td>Сергей</td>\n      <td>Игоревич</td>\n      <td>Николенко</td>\n      <td>2.787237</td>\n      <td>7.763981</td>\n      <td>2219</td>\n    </tr>\n    <tr>\n      <th>21487</th>\n      <td>Борис</td>\n      <td>Яковлевич</td>\n      <td>Моносов</td>\n      <td>2.758701</td>\n      <td>9.139847</td>\n      <td>948</td>\n    </tr>\n    <tr>\n      <th>22935</th>\n      <td>Илья</td>\n      <td>Сергеевич</td>\n      <td>Новиков</td>\n      <td>2.756995</td>\n      <td>9.224863</td>\n      <td>1589</td>\n    </tr>\n    <tr>\n      <th>87637</th>\n      <td>Антон</td>\n      <td>Владимирович</td>\n      <td>Саксонов</td>\n      <td>2.750904</td>\n      <td>8.484174</td>\n      <td>1194</td>\n    </tr>\n    <tr>\n      <th>18332</th>\n      <td>Александр</td>\n      <td>Витальевич</td>\n      <td>Либер</td>\n      <td>2.747342</td>\n      <td>9.665672</td>\n      <td>3715</td>\n    </tr>\n    <tr>\n      <th>74001</th>\n      <td>Игорь</td>\n      <td>Викторович</td>\n      <td>Мокин</td>\n      <td>2.719333</td>\n      <td>9.632250</td>\n      <td>1176</td>\n    </tr>\n    <tr>\n      <th>21698</th>\n      <td>Александр</td>\n      <td>Владимирович</td>\n      <td>Мосягин</td>\n      <td>2.718998</td>\n      <td>9.147575</td>\n      <td>1112</td>\n    </tr>\n    <tr>\n      <th>34328</th>\n      <td>Михаил</td>\n      <td>Сергеевич</td>\n      <td>Царёв</td>\n      <td>2.710740</td>\n      <td>9.659932</td>\n      <td>501</td>\n    </tr>\n    <tr>\n      <th>7008</th>\n      <td>Алексей</td>\n      <td>Владимирович</td>\n      <td>Гилёв</td>\n      <td>2.700028</td>\n      <td>9.916691</td>\n      <td>4234</td>\n    </tr>\n    <tr>\n      <th>13689</th>\n      <td>Дмитрий</td>\n      <td>Александрович</td>\n      <td>Карякин</td>\n      <td>2.697113</td>\n      <td>8.678009</td>\n      <td>1304</td>\n    </tr>\n  </tbody>\n</table>\n</div>"
     },
     "execution_count": 63,
     "metadata": {},
     "output_type": "execute_result"
    }
   ],
   "source": [
    "important_players.sort_values(\"baseline_force\", ascending=False).head(20)"
   ],
   "metadata": {
    "collapsed": false,
    "pycharm": {
     "name": "#%%\n"
    }
   }
  },
  {
   "cell_type": "code",
   "execution_count": 64,
   "outputs": [
    {
     "data": {
      "text/plain": "              name     patronymic       surname  baseline_force   em_force  \\\nid                                                                           \n38175       Максим       Игоревич     Пилипенко        2.490770  17.850452   \n14312      Виталий     Витальевич      Кичкирук        1.300795  16.283550   \n22474         Илья      Сергеевич         Немец        2.253483  16.251323   \n101843      Михаил      Борисович    Волхонский        1.274012  15.340509   \n14996        Ольга  Александровна       Козлова        1.818055  14.416165   \n199775       Денис     Евгеньевич        Кащеев        1.640680  14.347296   \n65825         Олег     Евгеньевич    Шапошников        0.890123  13.521538   \n189502      Никита     Алексеевич     Коновалов        1.743571  12.565181   \n113584       Антон   Владимирович         Козак        0.142638  11.666339   \n201697   Александр  Александрович        Бардин        2.261498  11.506261   \n27403       Максим     Михайлович         Руссо        3.379636  11.114611   \n53844        Елена   Владимировна       Наумова        0.912942  11.064776   \n218320      Эвелин                      Бельцер        1.523021  10.941645   \n36910         Иван  Александрович      Эйхгольц        2.473628  10.766493   \n30260      Евгений       Павлович       Спектор        2.690984  10.655215   \n33624        Ренат      Равилевич     Хайбуллин        1.506428  10.590036   \n15727    Александр    Геннадьевич  Коробейников        2.597012  10.292813   \n4270    Александра   Владимировна        Брутер        3.253530  10.218169   \n20691    Станислав    Григорьевич   Мереминский        2.902483  10.134549   \n28751         Иван     Николаевич       Семушин        3.199325  10.113092   \n\n        questions_played  \nid                        \n38175                 36  \n14312                 90  \n22474                 75  \n101843                35  \n14996                 36  \n199775                36  \n65825                309  \n189502               741  \n113584                36  \n201697                36  \n27403               2103  \n53844                 72  \n218320                36  \n36910                150  \n30260                230  \n33624                143  \n15727               1401  \n4270                2581  \n20691               1584  \n28751               3663  ",
      "text/html": "<div>\n<style scoped>\n    .dataframe tbody tr th:only-of-type {\n        vertical-align: middle;\n    }\n\n    .dataframe tbody tr th {\n        vertical-align: top;\n    }\n\n    .dataframe thead th {\n        text-align: right;\n    }\n</style>\n<table border=\"1\" class=\"dataframe\">\n  <thead>\n    <tr style=\"text-align: right;\">\n      <th></th>\n      <th>name</th>\n      <th>patronymic</th>\n      <th>surname</th>\n      <th>baseline_force</th>\n      <th>em_force</th>\n      <th>questions_played</th>\n    </tr>\n    <tr>\n      <th>id</th>\n      <th></th>\n      <th></th>\n      <th></th>\n      <th></th>\n      <th></th>\n      <th></th>\n    </tr>\n  </thead>\n  <tbody>\n    <tr>\n      <th>38175</th>\n      <td>Максим</td>\n      <td>Игоревич</td>\n      <td>Пилипенко</td>\n      <td>2.490770</td>\n      <td>17.850452</td>\n      <td>36</td>\n    </tr>\n    <tr>\n      <th>14312</th>\n      <td>Виталий</td>\n      <td>Витальевич</td>\n      <td>Кичкирук</td>\n      <td>1.300795</td>\n      <td>16.283550</td>\n      <td>90</td>\n    </tr>\n    <tr>\n      <th>22474</th>\n      <td>Илья</td>\n      <td>Сергеевич</td>\n      <td>Немец</td>\n      <td>2.253483</td>\n      <td>16.251323</td>\n      <td>75</td>\n    </tr>\n    <tr>\n      <th>101843</th>\n      <td>Михаил</td>\n      <td>Борисович</td>\n      <td>Волхонский</td>\n      <td>1.274012</td>\n      <td>15.340509</td>\n      <td>35</td>\n    </tr>\n    <tr>\n      <th>14996</th>\n      <td>Ольга</td>\n      <td>Александровна</td>\n      <td>Козлова</td>\n      <td>1.818055</td>\n      <td>14.416165</td>\n      <td>36</td>\n    </tr>\n    <tr>\n      <th>199775</th>\n      <td>Денис</td>\n      <td>Евгеньевич</td>\n      <td>Кащеев</td>\n      <td>1.640680</td>\n      <td>14.347296</td>\n      <td>36</td>\n    </tr>\n    <tr>\n      <th>65825</th>\n      <td>Олег</td>\n      <td>Евгеньевич</td>\n      <td>Шапошников</td>\n      <td>0.890123</td>\n      <td>13.521538</td>\n      <td>309</td>\n    </tr>\n    <tr>\n      <th>189502</th>\n      <td>Никита</td>\n      <td>Алексеевич</td>\n      <td>Коновалов</td>\n      <td>1.743571</td>\n      <td>12.565181</td>\n      <td>741</td>\n    </tr>\n    <tr>\n      <th>113584</th>\n      <td>Антон</td>\n      <td>Владимирович</td>\n      <td>Козак</td>\n      <td>0.142638</td>\n      <td>11.666339</td>\n      <td>36</td>\n    </tr>\n    <tr>\n      <th>201697</th>\n      <td>Александр</td>\n      <td>Александрович</td>\n      <td>Бардин</td>\n      <td>2.261498</td>\n      <td>11.506261</td>\n      <td>36</td>\n    </tr>\n    <tr>\n      <th>27403</th>\n      <td>Максим</td>\n      <td>Михайлович</td>\n      <td>Руссо</td>\n      <td>3.379636</td>\n      <td>11.114611</td>\n      <td>2103</td>\n    </tr>\n    <tr>\n      <th>53844</th>\n      <td>Елена</td>\n      <td>Владимировна</td>\n      <td>Наумова</td>\n      <td>0.912942</td>\n      <td>11.064776</td>\n      <td>72</td>\n    </tr>\n    <tr>\n      <th>218320</th>\n      <td>Эвелин</td>\n      <td></td>\n      <td>Бельцер</td>\n      <td>1.523021</td>\n      <td>10.941645</td>\n      <td>36</td>\n    </tr>\n    <tr>\n      <th>36910</th>\n      <td>Иван</td>\n      <td>Александрович</td>\n      <td>Эйхгольц</td>\n      <td>2.473628</td>\n      <td>10.766493</td>\n      <td>150</td>\n    </tr>\n    <tr>\n      <th>30260</th>\n      <td>Евгений</td>\n      <td>Павлович</td>\n      <td>Спектор</td>\n      <td>2.690984</td>\n      <td>10.655215</td>\n      <td>230</td>\n    </tr>\n    <tr>\n      <th>33624</th>\n      <td>Ренат</td>\n      <td>Равилевич</td>\n      <td>Хайбуллин</td>\n      <td>1.506428</td>\n      <td>10.590036</td>\n      <td>143</td>\n    </tr>\n    <tr>\n      <th>15727</th>\n      <td>Александр</td>\n      <td>Геннадьевич</td>\n      <td>Коробейников</td>\n      <td>2.597012</td>\n      <td>10.292813</td>\n      <td>1401</td>\n    </tr>\n    <tr>\n      <th>4270</th>\n      <td>Александра</td>\n      <td>Владимировна</td>\n      <td>Брутер</td>\n      <td>3.253530</td>\n      <td>10.218169</td>\n      <td>2581</td>\n    </tr>\n    <tr>\n      <th>20691</th>\n      <td>Станислав</td>\n      <td>Григорьевич</td>\n      <td>Мереминский</td>\n      <td>2.902483</td>\n      <td>10.134549</td>\n      <td>1584</td>\n    </tr>\n    <tr>\n      <th>28751</th>\n      <td>Иван</td>\n      <td>Николаевич</td>\n      <td>Семушин</td>\n      <td>3.199325</td>\n      <td>10.113092</td>\n      <td>3663</td>\n    </tr>\n  </tbody>\n</table>\n</div>"
     },
     "execution_count": 64,
     "metadata": {},
     "output_type": "execute_result"
    }
   ],
   "source": [
    "important_players.sort_values(\"em_force\", ascending=False).head(20)"
   ],
   "metadata": {
    "collapsed": false,
    "pycharm": {
     "name": "#%%\n"
    }
   }
  }
 ],
 "metadata": {
  "kernelspec": {
   "display_name": "Python 3",
   "language": "python",
   "name": "python3"
  },
  "language_info": {
   "codemirror_mode": {
    "name": "ipython",
    "version": 2
   },
   "file_extension": ".py",
   "mimetype": "text/x-python",
   "name": "python",
   "nbconvert_exporter": "python",
   "pygments_lexer": "ipython2",
   "version": "2.7.6"
  }
 },
 "nbformat": 4,
 "nbformat_minor": 0
}