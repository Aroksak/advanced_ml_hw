{
 "cells": [
  {
   "cell_type": "code",
   "execution_count": 1,
   "metadata": {
    "collapsed": true,
    "pycharm": {
     "name": "#%%\n"
    }
   },
   "outputs": [
    {
     "name": "stdout",
     "output_type": "stream",
     "text": [
      "--2022-05-07 15:16:23--  https://www.dropbox.com/s/k23enjvr3fb40o5/corpora.zip\r\n",
      "Resolving www.dropbox.com (www.dropbox.com)... 162.125.71.18, 2620:100:6026:18::a27d:4612\r\n",
      "Connecting to www.dropbox.com (www.dropbox.com)|162.125.71.18|:443... connected.\r\n",
      "HTTP request sent, awaiting response... 301 Moved Permanently\r\n",
      "Location: /s/raw/k23enjvr3fb40o5/corpora.zip [following]\r\n",
      "--2022-05-07 15:16:24--  https://www.dropbox.com/s/raw/k23enjvr3fb40o5/corpora.zip\r\n",
      "Reusing existing connection to www.dropbox.com:443.\r\n",
      "HTTP request sent, awaiting response... 302 Found\r\n",
      "Location: https://ucc2c9e813c1deec98649731d5ed.dl.dropboxusercontent.com/cd/0/inline/Bk3Z1Bn5l1ov8DuMwFW7aNmcWpqhjBhH49fPibeqXol2smSiDPxyCkU-MPcr7P9MsLVMiuV5zZOFGLbiqSyxHaFRePFJqKgZll3dtoJdNrvOVLS3vCPK0T6L1l96n-lxSdoBuljP9Uo5FjzzzuZ0_95vbrpfIfytphOviYxe0yJu5A/file# [following]\r\n",
      "--2022-05-07 15:16:24--  https://ucc2c9e813c1deec98649731d5ed.dl.dropboxusercontent.com/cd/0/inline/Bk3Z1Bn5l1ov8DuMwFW7aNmcWpqhjBhH49fPibeqXol2smSiDPxyCkU-MPcr7P9MsLVMiuV5zZOFGLbiqSyxHaFRePFJqKgZll3dtoJdNrvOVLS3vCPK0T6L1l96n-lxSdoBuljP9Uo5FjzzzuZ0_95vbrpfIfytphOviYxe0yJu5A/file\r\n",
      "Resolving ucc2c9e813c1deec98649731d5ed.dl.dropboxusercontent.com (ucc2c9e813c1deec98649731d5ed.dl.dropboxusercontent.com)... 162.125.71.15, 2620:100:6026:15::a27d:460f\r\n",
      "Connecting to ucc2c9e813c1deec98649731d5ed.dl.dropboxusercontent.com (ucc2c9e813c1deec98649731d5ed.dl.dropboxusercontent.com)|162.125.71.15|:443... connected.\r\n",
      "HTTP request sent, awaiting response... 302 Found\r\n",
      "Location: /cd/0/inline2/Bk1XJjIkJ2sZx_6cA50mlc6WQi8_pLomFV3jrDD5I2LP1fHq9pzSES00UVEqi2b4hGrmAfL1eyv16sur3N97CQooLalD5a6xZ_8o15_syZVbacE3W_WAvBGVk5ea8cX_YmuEv_HPMT1vUljCUo_YwGznHo2O1RhsmEKrf_sw0qsC5ht7b8RdlH_UEb8k35fvmLljugr9h5SeAYcSxq1e6t54BwNvQEnHCEdwGPWIgerU0FaNxTgO5K8AYKT0uoYFtSymS2c-BJ6VDeqAr1uVii_B2Ihn3IlG8_2YdMe699mbeAwvOqTHBLsVbG-ACXpJpnE9_qdQxca6p1F9Sh_KSwD6J28QQ5E28PADuEr4NJCBvNBUGrD3Z44Ie5f2EsbtDHYxNSFEQr9Yy_Nrs9vwFXgOLBV2sGMrMMzHbCTNJvewTA/file [following]\r\n",
      "--2022-05-07 15:16:24--  https://ucc2c9e813c1deec98649731d5ed.dl.dropboxusercontent.com/cd/0/inline2/Bk1XJjIkJ2sZx_6cA50mlc6WQi8_pLomFV3jrDD5I2LP1fHq9pzSES00UVEqi2b4hGrmAfL1eyv16sur3N97CQooLalD5a6xZ_8o15_syZVbacE3W_WAvBGVk5ea8cX_YmuEv_HPMT1vUljCUo_YwGznHo2O1RhsmEKrf_sw0qsC5ht7b8RdlH_UEb8k35fvmLljugr9h5SeAYcSxq1e6t54BwNvQEnHCEdwGPWIgerU0FaNxTgO5K8AYKT0uoYFtSymS2c-BJ6VDeqAr1uVii_B2Ihn3IlG8_2YdMe699mbeAwvOqTHBLsVbG-ACXpJpnE9_qdQxca6p1F9Sh_KSwD6J28QQ5E28PADuEr4NJCBvNBUGrD3Z44Ie5f2EsbtDHYxNSFEQr9Yy_Nrs9vwFXgOLBV2sGMrMMzHbCTNJvewTA/file\r\n",
      "Reusing existing connection to ucc2c9e813c1deec98649731d5ed.dl.dropboxusercontent.com:443.\r\n",
      "HTTP request sent, awaiting response... 200 OK\r\n",
      "Length: 2434585 (2.3M) [application/zip]\r\n",
      "Saving to: ‘corpora.zip’\r\n",
      "\r\n",
      "corpora.zip         100%[===================>]   2.32M  7.78MB/s    in 0.3s    \r\n",
      "\r\n",
      "2022-05-07 15:16:25 (7.78 MB/s) - ‘corpora.zip’ saved [2434585/2434585]\r\n",
      "\r\n",
      "Archive:  corpora.zip\r\n",
      "replace data/AnnaKarenina.txt? [y]es, [n]o, [A]ll, [N]one, [r]ename: ^C\r\n"
     ]
    },
    {
     "ename": "UnboundLocalError",
     "evalue": "local variable 'child' referenced before assignment",
     "output_type": "error",
     "traceback": [
      "\u001B[0;31m---------------------------------------------------------------------------\u001B[0m",
      "\u001B[0;31mKeyboardInterrupt\u001B[0m                         Traceback (most recent call last)",
      "\u001B[0;32m~/anaconda3/lib/python3.8/site-packages/IPython/utils/_process_posix.py\u001B[0m in \u001B[0;36msystem\u001B[0;34m(self, cmd)\u001B[0m\n\u001B[1;32m    156\u001B[0m             \u001B[0;32melse\u001B[0m\u001B[0;34m:\u001B[0m\u001B[0;34m\u001B[0m\u001B[0;34m\u001B[0m\u001B[0m\n\u001B[0;32m--> 157\u001B[0;31m                 \u001B[0mchild\u001B[0m \u001B[0;34m=\u001B[0m \u001B[0mpexpect\u001B[0m\u001B[0;34m.\u001B[0m\u001B[0mspawn\u001B[0m\u001B[0;34m(\u001B[0m\u001B[0mself\u001B[0m\u001B[0;34m.\u001B[0m\u001B[0msh\u001B[0m\u001B[0;34m,\u001B[0m \u001B[0margs\u001B[0m\u001B[0;34m=\u001B[0m\u001B[0;34m[\u001B[0m\u001B[0;34m'-c'\u001B[0m\u001B[0;34m,\u001B[0m \u001B[0mcmd\u001B[0m\u001B[0;34m]\u001B[0m\u001B[0;34m)\u001B[0m  \u001B[0;31m# Vanilla Pexpect\u001B[0m\u001B[0;34m\u001B[0m\u001B[0;34m\u001B[0m\u001B[0m\n\u001B[0m\u001B[1;32m    158\u001B[0m             \u001B[0mflush\u001B[0m \u001B[0;34m=\u001B[0m \u001B[0msys\u001B[0m\u001B[0;34m.\u001B[0m\u001B[0mstdout\u001B[0m\u001B[0;34m.\u001B[0m\u001B[0mflush\u001B[0m\u001B[0;34m\u001B[0m\u001B[0;34m\u001B[0m\u001B[0m\n",
      "\u001B[0;32m~/anaconda3/lib/python3.8/site-packages/pexpect/pty_spawn.py\u001B[0m in \u001B[0;36m__init__\u001B[0;34m(self, command, args, timeout, maxread, searchwindowsize, logfile, cwd, env, ignore_sighup, echo, preexec_fn, encoding, codec_errors, dimensions, use_poll)\u001B[0m\n\u001B[1;32m    204\u001B[0m         \u001B[0;32melse\u001B[0m\u001B[0;34m:\u001B[0m\u001B[0;34m\u001B[0m\u001B[0;34m\u001B[0m\u001B[0m\n\u001B[0;32m--> 205\u001B[0;31m             \u001B[0mself\u001B[0m\u001B[0;34m.\u001B[0m\u001B[0m_spawn\u001B[0m\u001B[0;34m(\u001B[0m\u001B[0mcommand\u001B[0m\u001B[0;34m,\u001B[0m \u001B[0margs\u001B[0m\u001B[0;34m,\u001B[0m \u001B[0mpreexec_fn\u001B[0m\u001B[0;34m,\u001B[0m \u001B[0mdimensions\u001B[0m\u001B[0;34m)\u001B[0m\u001B[0;34m\u001B[0m\u001B[0;34m\u001B[0m\u001B[0m\n\u001B[0m\u001B[1;32m    206\u001B[0m         \u001B[0mself\u001B[0m\u001B[0;34m.\u001B[0m\u001B[0muse_poll\u001B[0m \u001B[0;34m=\u001B[0m \u001B[0muse_poll\u001B[0m\u001B[0;34m\u001B[0m\u001B[0;34m\u001B[0m\u001B[0m\n",
      "\u001B[0;32m~/anaconda3/lib/python3.8/site-packages/pexpect/pty_spawn.py\u001B[0m in \u001B[0;36m_spawn\u001B[0;34m(self, command, args, preexec_fn, dimensions)\u001B[0m\n\u001B[1;32m    302\u001B[0m \u001B[0;34m\u001B[0m\u001B[0m\n\u001B[0;32m--> 303\u001B[0;31m         self.ptyproc = self._spawnpty(self.args, env=self.env,\n\u001B[0m\u001B[1;32m    304\u001B[0m                                      cwd=self.cwd, **kwargs)\n",
      "\u001B[0;32m~/anaconda3/lib/python3.8/site-packages/pexpect/pty_spawn.py\u001B[0m in \u001B[0;36m_spawnpty\u001B[0;34m(self, args, **kwargs)\u001B[0m\n\u001B[1;32m    314\u001B[0m         \u001B[0;34m'''Spawn a pty and return an instance of PtyProcess.'''\u001B[0m\u001B[0;34m\u001B[0m\u001B[0;34m\u001B[0m\u001B[0m\n\u001B[0;32m--> 315\u001B[0;31m         \u001B[0;32mreturn\u001B[0m \u001B[0mptyprocess\u001B[0m\u001B[0;34m.\u001B[0m\u001B[0mPtyProcess\u001B[0m\u001B[0;34m.\u001B[0m\u001B[0mspawn\u001B[0m\u001B[0;34m(\u001B[0m\u001B[0margs\u001B[0m\u001B[0;34m,\u001B[0m \u001B[0;34m**\u001B[0m\u001B[0mkwargs\u001B[0m\u001B[0;34m)\u001B[0m\u001B[0;34m\u001B[0m\u001B[0;34m\u001B[0m\u001B[0m\n\u001B[0m\u001B[1;32m    316\u001B[0m \u001B[0;34m\u001B[0m\u001B[0m\n",
      "\u001B[0;32m~/anaconda3/lib/python3.8/site-packages/ptyprocess/ptyprocess.py\u001B[0m in \u001B[0;36mspawn\u001B[0;34m(cls, argv, cwd, env, echo, preexec_fn, dimensions, pass_fds)\u001B[0m\n\u001B[1;32m    314\u001B[0m         \u001B[0mos\u001B[0m\u001B[0;34m.\u001B[0m\u001B[0mclose\u001B[0m\u001B[0;34m(\u001B[0m\u001B[0mexec_err_pipe_write\u001B[0m\u001B[0;34m)\u001B[0m\u001B[0;34m\u001B[0m\u001B[0;34m\u001B[0m\u001B[0m\n\u001B[0;32m--> 315\u001B[0;31m         \u001B[0mexec_err_data\u001B[0m \u001B[0;34m=\u001B[0m \u001B[0mos\u001B[0m\u001B[0;34m.\u001B[0m\u001B[0mread\u001B[0m\u001B[0;34m(\u001B[0m\u001B[0mexec_err_pipe_read\u001B[0m\u001B[0;34m,\u001B[0m \u001B[0;36m4096\u001B[0m\u001B[0;34m)\u001B[0m\u001B[0;34m\u001B[0m\u001B[0;34m\u001B[0m\u001B[0m\n\u001B[0m\u001B[1;32m    316\u001B[0m         \u001B[0mos\u001B[0m\u001B[0;34m.\u001B[0m\u001B[0mclose\u001B[0m\u001B[0;34m(\u001B[0m\u001B[0mexec_err_pipe_read\u001B[0m\u001B[0;34m)\u001B[0m\u001B[0;34m\u001B[0m\u001B[0;34m\u001B[0m\u001B[0m\n",
      "\u001B[0;31mKeyboardInterrupt\u001B[0m: ",
      "\nDuring handling of the above exception, another exception occurred:\n",
      "\u001B[0;31mUnboundLocalError\u001B[0m                         Traceback (most recent call last)",
      "\u001B[0;32m/tmp/ipykernel_607667/1682510902.py\u001B[0m in \u001B[0;36m<module>\u001B[0;34m\u001B[0m\n\u001B[1;32m      1\u001B[0m \u001B[0mget_ipython\u001B[0m\u001B[0;34m(\u001B[0m\u001B[0;34m)\u001B[0m\u001B[0;34m.\u001B[0m\u001B[0msystem\u001B[0m\u001B[0;34m(\u001B[0m\u001B[0;34m' wget https://www.dropbox.com/s/k23enjvr3fb40o5/corpora.zip'\u001B[0m\u001B[0;34m)\u001B[0m\u001B[0;34m\u001B[0m\u001B[0;34m\u001B[0m\u001B[0m\n\u001B[1;32m      2\u001B[0m \u001B[0mget_ipython\u001B[0m\u001B[0;34m(\u001B[0m\u001B[0;34m)\u001B[0m\u001B[0;34m.\u001B[0m\u001B[0msystem\u001B[0m\u001B[0;34m(\u001B[0m\u001B[0;34m' unzip corpora.zip -d data'\u001B[0m\u001B[0;34m)\u001B[0m\u001B[0;34m\u001B[0m\u001B[0;34m\u001B[0m\u001B[0m\n\u001B[0;32m----> 3\u001B[0;31m \u001B[0mget_ipython\u001B[0m\u001B[0;34m(\u001B[0m\u001B[0;34m)\u001B[0m\u001B[0;34m.\u001B[0m\u001B[0msystem\u001B[0m\u001B[0;34m(\u001B[0m\u001B[0;34m' rm corpora.zip'\u001B[0m\u001B[0;34m)\u001B[0m\u001B[0;34m\u001B[0m\u001B[0;34m\u001B[0m\u001B[0m\n\u001B[0m",
      "\u001B[0;32m~/anaconda3/lib/python3.8/site-packages/ipykernel/zmqshell.py\u001B[0m in \u001B[0;36msystem_piped\u001B[0;34m(self, cmd)\u001B[0m\n\u001B[1;32m    635\u001B[0m                 \u001B[0mself\u001B[0m\u001B[0;34m.\u001B[0m\u001B[0muser_ns\u001B[0m\u001B[0;34m[\u001B[0m\u001B[0;34m'_exit_code'\u001B[0m\u001B[0;34m]\u001B[0m \u001B[0;34m=\u001B[0m \u001B[0msystem\u001B[0m\u001B[0;34m(\u001B[0m\u001B[0mcmd\u001B[0m\u001B[0;34m)\u001B[0m\u001B[0;34m\u001B[0m\u001B[0;34m\u001B[0m\u001B[0m\n\u001B[1;32m    636\u001B[0m         \u001B[0;32melse\u001B[0m\u001B[0;34m:\u001B[0m\u001B[0;34m\u001B[0m\u001B[0;34m\u001B[0m\u001B[0m\n\u001B[0;32m--> 637\u001B[0;31m             \u001B[0mself\u001B[0m\u001B[0;34m.\u001B[0m\u001B[0muser_ns\u001B[0m\u001B[0;34m[\u001B[0m\u001B[0;34m'_exit_code'\u001B[0m\u001B[0;34m]\u001B[0m \u001B[0;34m=\u001B[0m \u001B[0msystem\u001B[0m\u001B[0;34m(\u001B[0m\u001B[0mself\u001B[0m\u001B[0;34m.\u001B[0m\u001B[0mvar_expand\u001B[0m\u001B[0;34m(\u001B[0m\u001B[0mcmd\u001B[0m\u001B[0;34m,\u001B[0m \u001B[0mdepth\u001B[0m\u001B[0;34m=\u001B[0m\u001B[0;36m1\u001B[0m\u001B[0;34m)\u001B[0m\u001B[0;34m)\u001B[0m\u001B[0;34m\u001B[0m\u001B[0;34m\u001B[0m\u001B[0m\n\u001B[0m\u001B[1;32m    638\u001B[0m \u001B[0;34m\u001B[0m\u001B[0m\n\u001B[1;32m    639\u001B[0m     \u001B[0;31m# Ensure new system_piped implementation is used\u001B[0m\u001B[0;34m\u001B[0m\u001B[0;34m\u001B[0m\u001B[0;34m\u001B[0m\u001B[0m\n",
      "\u001B[0;32m~/anaconda3/lib/python3.8/site-packages/IPython/utils/_process_posix.py\u001B[0m in \u001B[0;36msystem\u001B[0;34m(self, cmd)\u001B[0m\n\u001B[1;32m    171\u001B[0m             \u001B[0;31m# (the character is known as ETX for 'End of Text', see\u001B[0m\u001B[0;34m\u001B[0m\u001B[0;34m\u001B[0m\u001B[0;34m\u001B[0m\u001B[0m\n\u001B[1;32m    172\u001B[0m             \u001B[0;31m# curses.ascii.ETX).\u001B[0m\u001B[0;34m\u001B[0m\u001B[0;34m\u001B[0m\u001B[0;34m\u001B[0m\u001B[0m\n\u001B[0;32m--> 173\u001B[0;31m             \u001B[0mchild\u001B[0m\u001B[0;34m.\u001B[0m\u001B[0msendline\u001B[0m\u001B[0;34m(\u001B[0m\u001B[0mchr\u001B[0m\u001B[0;34m(\u001B[0m\u001B[0;36m3\u001B[0m\u001B[0;34m)\u001B[0m\u001B[0;34m)\u001B[0m\u001B[0;34m\u001B[0m\u001B[0;34m\u001B[0m\u001B[0m\n\u001B[0m\u001B[1;32m    174\u001B[0m             \u001B[0;31m# Read and print any more output the program might produce on its\u001B[0m\u001B[0;34m\u001B[0m\u001B[0;34m\u001B[0m\u001B[0;34m\u001B[0m\u001B[0m\n\u001B[1;32m    175\u001B[0m             \u001B[0;31m# way out.\u001B[0m\u001B[0;34m\u001B[0m\u001B[0;34m\u001B[0m\u001B[0;34m\u001B[0m\u001B[0m\n",
      "\u001B[0;31mUnboundLocalError\u001B[0m: local variable 'child' referenced before assignment"
     ]
    }
   ],
   "source": [
    "! wget https://www.dropbox.com/s/k23enjvr3fb40o5/corpora.zip\n",
    "! unzip corpora.zip -d data\n",
    "! rm corpora.zip"
   ]
  },
  {
   "cell_type": "code",
   "execution_count": 2,
   "outputs": [],
   "source": [
    "import re\n",
    "import string\n",
    "from collections import Counter\n",
    "\n",
    "import numpy as np\n",
    "from tqdm.auto import trange"
   ],
   "metadata": {
    "collapsed": false,
    "pycharm": {
     "name": "#%%\n"
    }
   }
  },
  {
   "cell_type": "code",
   "execution_count": 3,
   "outputs": [],
   "source": [
    "def preprocess(text):\n",
    "    text = text.lower()\n",
    "    text = re.sub(r\"\\W\", ' ', text)\n",
    "    text = re.sub(r\"\\s+\", ' ', text)\n",
    "    return text"
   ],
   "metadata": {
    "collapsed": false,
    "pycharm": {
     "name": "#%%\n"
    }
   }
  },
  {
   "cell_type": "code",
   "execution_count": 4,
   "outputs": [
    {
     "data": {
      "text/plain": "'annotation война и мир самый известный роман льва николаевича толстого как никакое другое произведение писателя отражает глубину его мироощущения и философии эта книга из разряда вечных потому что она обо всем о жизни и смерти о любви и чести о мужестве и героизме о славе и подвиге о войне и мире первый том знакомит с высшим обществом россии xix века показаны взаимоотношения между родителями и детьми в семье ростовых сватовство у болконских интриги у безуховых вечера в салоне фрейлины а п шерер балы в москве и петербурге лев николаевич толстойчасть первая часть btорая часть третья лев николаевич толстой война и мир том 1 часть первая i еh bien mon prince gênes et lucques ne sont plus que des apanages des поместья de la famille buonaparte non je vous préviens que si vous ne me dites pas que nous avons la guerre si vous vous permettez encore de pallier toutes les infamies toutes les atrocités de cet antichrist ma parole j y crois je ne vous connais plus vous n êtes plus mon ami vous n êt'"
     },
     "execution_count": 4,
     "metadata": {},
     "output_type": "execute_result"
    }
   ],
   "source": [
    "with open(\"data/WarAndPeace.txt\") as f_in:\n",
    "    wap_rus = f_in.read()\n",
    "wap_rus = preprocess(wap_rus)\n",
    "wap_rus[:1000]"
   ],
   "metadata": {
    "collapsed": false,
    "pycharm": {
     "name": "#%%\n"
    }
   }
  },
  {
   "cell_type": "code",
   "execution_count": 5,
   "outputs": [
    {
     "data": {
      "text/plain": "' the project gutenberg ebook of war and peace by leo tolstoy this ebook is for the use of anyone anywhere at no cost and with almost no restrictions whatsoever you may copy it give it away or re use it under the terms of the project gutenberg license included with this ebook or online at www gutenberg org title war and peace author leo tolstoy translators louise and aylmer maude posting date january 10 2009 ebook 2600 last updated march 15 2013 language english start of this project gutenberg ebook war and peace an anonymous volunteer and david widger war and peace by leo tolstoy tolstoi contents book one 1805 chapter i chapter ii chapter iii chapter iv chapter v chapter vi chapter vii chapter viii chapter ix chapter x chapter xi chapter xii chapter xiii chapter xiv chapter xv chapter xvi chapter xvii chapter xviii chapter xix chapter xx chapter xxi chapter xxii chapter xxiii chapter xxiv chapter xxv chapter xxvi chapter xxvii chapter xxviii book two 1805 chapter i chapter ii chapter i'"
     },
     "execution_count": 5,
     "metadata": {},
     "output_type": "execute_result"
    }
   ],
   "source": [
    "with open(\"data/WarAndPeaceEng.txt\") as f_in:\n",
    "    wap_eng = f_in.read()\n",
    "wap_eng = preprocess(wap_eng)\n",
    "wap_eng[:1000]"
   ],
   "metadata": {
    "collapsed": false,
    "pycharm": {
     "name": "#%%\n"
    }
   }
  },
  {
   "cell_type": "markdown",
   "source": [
    "# 1. Базовый частотный метод"
   ],
   "metadata": {
    "collapsed": false,
    "pycharm": {
     "name": "#%% md\n"
    }
   }
  },
  {
   "cell_type": "code",
   "execution_count": 6,
   "outputs": [],
   "source": [
    "def basic_frequency_decoding(message: str, corpus: str) -> str:\n",
    "    freqs_corp = [x[0] for x in Counter(corpus).most_common()]\n",
    "    freqs_msg = [x[0] for x in Counter(message).most_common()]\n",
    "    min_len = min(len(freqs_msg), len(freqs_corp))\n",
    "    return message.translate(str.maketrans(''.join(freqs_msg[:min_len]), ''.join(freqs_corp[:min_len])))"
   ],
   "metadata": {
    "collapsed": false,
    "pycharm": {
     "name": "#%%\n"
    }
   }
  },
  {
   "cell_type": "code",
   "execution_count": 7,
   "outputs": [],
   "source": [
    "def random_encoding(message: str) -> str:\n",
    "    chars = list(set(message))\n",
    "    return message.translate(str.maketrans(''.join(chars), ''.join(np.random.permutation(chars))))"
   ],
   "metadata": {
    "collapsed": false,
    "pycharm": {
     "name": "#%%\n"
    }
   }
  },
  {
   "cell_type": "markdown",
   "source": [
    "## 1.1 Русский"
   ],
   "metadata": {
    "collapsed": false,
    "pycharm": {
     "name": "#%% md\n"
    }
   }
  },
  {
   "cell_type": "markdown",
   "source": [
    "Сообщение"
   ],
   "metadata": {
    "collapsed": false,
    "pycharm": {
     "name": "#%% md\n"
    }
   }
  },
  {
   "cell_type": "code",
   "execution_count": 8,
   "outputs": [],
   "source": [
    "message_rus = \"В 1878 году я окончил Лондонский университет, получив звание врача, и сразу же отправился в Нетли, где прошел специальный курс для военных хирургов. После окончания занятий я был назначен ассистентом хирурга в Пятый Нортумберлендский стрелковый полк. В то время полк стоял в Индии, и не успел я до него добраться, как вспыхнула вторая война с Афганистаном.\"\n",
    "message_rus = preprocess(message_rus)"
   ],
   "metadata": {
    "collapsed": false,
    "pycharm": {
     "name": "#%%\n"
    }
   }
  },
  {
   "cell_type": "markdown",
   "source": [
    "Шифровка"
   ],
   "metadata": {
    "collapsed": false,
    "pycharm": {
     "name": "#%% md\n"
    }
   }
  },
  {
   "cell_type": "code",
   "execution_count": 9,
   "outputs": [
    {
     "name": "stdout",
     "output_type": "stream",
     "text": [
      "па1рбрадя8еажаягяфймлаляф8яф гмоаефмпич мзизанялеймпацпьфмиапчьйьама чьцеахиаязнчьпмл жапафизлмад8ианчякила ни7мьлсфыоагеч а8лжапяиффышашмчечдяпаня лиаягяфйьфмжацьфжзмоажатылафьцфьйифаь  м зифзяуашмчечдьапанжзыоафячзеутичлиф8 гмоа зчилгяпыоанялгапазяапчиужанялга зяжлапамф8ммамафиае нилажа8яафидяа8ятчьзс жагьгап нышфельапзячьжапяофьа аьвдьфм зьфяуа\n"
     ]
    }
   ],
   "source": [
    "coded_message_rus = random_encoding(message_rus)\n",
    "print(coded_message_rus)"
   ],
   "metadata": {
    "collapsed": false,
    "pycharm": {
     "name": "#%%\n"
    }
   }
  },
  {
   "cell_type": "markdown",
   "source": [
    "Расшифровка"
   ],
   "metadata": {
    "collapsed": false,
    "pycharm": {
     "name": "#%% md\n"
    }
   }
  },
  {
   "cell_type": "code",
   "execution_count": 10,
   "outputs": [
    {
     "name": "stdout",
     "output_type": "stream",
     "text": [
      "с хжeж гопд к омоаыел лоапоатмея даеснвтернр уолдыес зсиаен свиыи е твизд юн орувиселтк с анрле гпн увоцнл тунnеилшаья мдвт плк сонааьб бевдвгос уотлн омоаыиаек зиакрея к йьл аизаиына иттетрнароч бевдвги с укрья аоврдчйнвлнаптмея трвнлмосья уолм с ро свнчк уолм трокл с еапее е ан дтунл к по анго пойвирштк мим стуьбадли сровик сояаи т иsгиаетриаоч \n"
     ]
    }
   ],
   "source": [
    "print(basic_frequency_decoding(coded_message_rus, wap_rus))"
   ],
   "metadata": {
    "collapsed": false,
    "pycharm": {
     "name": "#%%\n"
    }
   }
  },
  {
   "cell_type": "markdown",
   "source": [
    "## 1.2 Английский"
   ],
   "metadata": {
    "collapsed": false,
    "pycharm": {
     "name": "#%% md\n"
    }
   }
  },
  {
   "cell_type": "markdown",
   "source": [
    "Сообщение"
   ],
   "metadata": {
    "collapsed": false,
    "pycharm": {
     "name": "#%% md\n"
    }
   }
  },
  {
   "cell_type": "code",
   "execution_count": 60,
   "outputs": [],
   "source": [
    "message_eng = \"In the centre of the room, clamped to an upright easel, stood the full-length portrait of a young man of extraordinary personal beauty, and in front of it, some little distance away, was sitting the artist himself, Basil Hallward, whose sudden disappearance some years ago caused, at the time, such public excitement and gave rise to so many strange conjectures. \"\n",
    "message_eng = preprocess(message_eng)"
   ],
   "metadata": {
    "collapsed": false,
    "pycharm": {
     "name": "#%%\n"
    }
   }
  },
  {
   "cell_type": "markdown",
   "source": [
    "Шифровка"
   ],
   "metadata": {
    "collapsed": false,
    "pycharm": {
     "name": "#%% md\n"
    }
   }
  },
  {
   "cell_type": "code",
   "execution_count": 61,
   "outputs": [
    {
     "name": "stdout",
     "output_type": "stream",
     "text": [
      "vwnms nh wmf njbnms nfjjanhpyad enmjnywncdfvlsmn yt pntmjjenms nbcppnp wlmsndjfmfyvmnjbnynijcwlnaywnjbn xmfyjfevwyfind ftjwypno ycminywenvwnbfjwmnjbnvmntja npvmmp nevtmywh nygyingytntvmmvwlnms nyfmvtmnsvat pbnoytvpnsyppgyfengsjt ntcee wnevtydd yfywh ntja ni yftnyljnhyct enymnms nmva ntchsndcopvhn xhvm a wmnywenlyr nfvt nmjntjnaywintmfywl nhjwu hmcf tn\n"
     ]
    }
   ],
   "source": [
    "coded_message_eng = random_encoding(message_eng)\n",
    "print(coded_message_eng)"
   ],
   "metadata": {
    "collapsed": false,
    "pycharm": {
     "name": "#%%\n"
    }
   }
  },
  {
   "cell_type": "markdown",
   "source": [
    "Расшифровка"
   ],
   "metadata": {
    "collapsed": false,
    "pycharm": {
     "name": "#%% md\n"
    }
   }
  },
  {
   "cell_type": "code",
   "execution_count": 62,
   "outputs": [
    {
     "name": "stdout",
     "output_type": "stream",
     "text": [
      "hi tde ueitse ow tde soom uramfel to ai cfshgdt eaner ntool tde wcrr reigtd fostsaht ow a yocig mai ow evtsaoslhiasy fesnoiar beacty ail hi wsoit ow ht nome rhttre lhntaiue apay pan nhtthig tde asthnt dhmnerw banhr darrpasl pdone ncllei lhnaffeasaiue nome yeasn ago uacnel at tde thme ncud fcbrhu evuhtemeit ail gake shne to no maiy ntsaige uoixeutcsen \n"
     ]
    }
   ],
   "source": [
    "print(basic_frequency_decoding(coded_message_eng, wap_eng))"
   ],
   "metadata": {
    "collapsed": false,
    "pycharm": {
     "name": "#%%\n"
    }
   }
  },
  {
   "cell_type": "markdown",
   "source": [
    "Базовый метод смог правильно расставить только пробелы и пару самых частотных букв."
   ],
   "metadata": {
    "collapsed": false,
    "pycharm": {
     "name": "#%% md\n"
    }
   }
  },
  {
   "cell_type": "markdown",
   "source": [
    "# 2. Биграммы"
   ],
   "metadata": {
    "collapsed": false,
    "pycharm": {
     "name": "#%% md\n"
    }
   }
  },
  {
   "cell_type": "code",
   "execution_count": 35,
   "outputs": [],
   "source": [
    "def bigram_decoding(message: str, corpus: str) -> str:\n",
    "    freqs_corp = [''.join(x[0]) for x in Counter(zip(corpus[:-1], corpus[1:])).most_common()]\n",
    "    freqs_msg = [''.join(x[0]) for x in Counter(zip(message[::2], message[1::2])).most_common()]\n",
    "    min_len = min(len(freqs_msg), len(freqs_corp))\n",
    "    translation = {freqs_msg[i]: freqs_corp[i] for i in range(min_len)}\n",
    "    new_message = [translation[''.join(bigram)] for bigram in zip(message[::2], message[1::2])]\n",
    "    return ''.join(new_message)"
   ],
   "metadata": {
    "collapsed": false,
    "pycharm": {
     "name": "#%%\n"
    }
   }
  },
  {
   "cell_type": "markdown",
   "source": [
    "## 2.1 Русский"
   ],
   "metadata": {
    "collapsed": false,
    "pycharm": {
     "name": "#%% md\n"
    }
   }
  },
  {
   "cell_type": "markdown",
   "source": [
    "Расшифровка"
   ],
   "metadata": {
    "collapsed": false,
    "pycharm": {
     "name": "#%% md\n"
    }
   }
  },
  {
   "cell_type": "code",
   "execution_count": 36,
   "outputs": [
    {
     "name": "stdout",
     "output_type": "stream",
     "text": [
      "о у осотлаь и линалогоорв наелалне препрва ма  взатапори пно г ч не анраь к коилтотьоми о  оске атноогт овтен од ры л й аккадеи  бя ве зм  тво да даазко е у кемпо касалрожелеойрабыетмодоми ся  ильм  тво но есаверчтю тиегняя сьитер солви дл а  вено  истолe а  вен сингоо х руе е  онеоновронины ос ниобтося ай всстонченнимст итои  бтр нкаисая п с кма\n"
     ]
    }
   ],
   "source": [
    "print(bigram_decoding(coded_message_rus, wap_rus))"
   ],
   "metadata": {
    "collapsed": false,
    "pycharm": {
     "name": "#%%\n"
    }
   }
  },
  {
   "cell_type": "markdown",
   "source": [
    "## 2.2 Английский"
   ],
   "metadata": {
    "collapsed": false,
    "pycharm": {
     "name": "#%% md\n"
    }
   }
  },
  {
   "cell_type": "code",
   "execution_count": 63,
   "outputs": [
    {
     "name": "stdout",
     "output_type": "stream",
     "text": [
      "n  wrendd  oe  h wrer y  parst iheedthinse dle tofathaany he se nta ond h o  r nenermenerovealhi bin hngtiendetoou lhorig ouhaealll thceisinco c t his tg  fonernoe toan aitthasm asorwa en hi se s  manf whatchbeadomf utshs heelwie otlyd owes g is  aitt ime sss orlitemasincth t se  m ft soo ustaunngaieridd  t aheicw r ese edt te bpet  o aiend csaraloil\n"
     ]
    }
   ],
   "source": [
    "print(bigram_decoding(coded_message_eng, wap_eng))"
   ],
   "metadata": {
    "collapsed": false,
    "pycharm": {
     "name": "#%%\n"
    }
   }
  },
  {
   "cell_type": "markdown",
   "source": [
    "# 3. MCMC"
   ],
   "metadata": {
    "collapsed": false,
    "pycharm": {
     "name": "#%% md\n"
    }
   }
  },
  {
   "cell_type": "code",
   "execution_count": 56,
   "outputs": [],
   "source": [
    "class MCMCDecoder:\n",
    "    def __init__(self, corpus):\n",
    "        self.decode_list = list(set(corpus))\n",
    "        self.freq_corp = Counter(zip(corpus[:-1], corpus[1:]))\n",
    "        self.eps = 1 / len(self.decode_list)**2\n",
    "        self.freq_corp = {bigram: count / sum(self.freq_corp.values()) + self.eps for bigram, count in self.freq_corp.items()}\n",
    "\n",
    "    def get_log_likelihood(self, message):\n",
    "        return sum(np.log(self.freq_corp.get(bigram, self.eps)) for bigram in zip(message[:-1], message[1:]))\n",
    "\n",
    "    def _try_decode(self, message, message_alphabet):\n",
    "        return message.translate(str.maketrans(''.join(message_alphabet), ''.join(self.decode_list[:len(message_alphabet)])))\n",
    "\n",
    "    def decode(self, message, n_iter=100_000):\n",
    "        message_alphabet = list(set(message))\n",
    "        assert len(message_alphabet) <= len(self.decode_list), \"Message contains more unique symbols than corpus\"\n",
    "        last_likelihood = self.get_log_likelihood(self._try_decode(message, message_alphabet))\n",
    "        t = trange(n_iter, desc=f\"{last_likelihood:.1f}\")\n",
    "        for _ in t:\n",
    "            i = np.random.randint(len(self.decode_list))\n",
    "            j = np.random.randint(len(self.decode_list))\n",
    "            self.decode_list[i], self.decode_list[j] = self.decode_list[j], self.decode_list[i]\n",
    "            cur_likelihood = self.get_log_likelihood(self._try_decode(message, message_alphabet))\n",
    "            if np.random.rand() < np.exp(min(cur_likelihood - last_likelihood, 0)):\n",
    "                last_likelihood = cur_likelihood\n",
    "                t.set_description(f\"{last_likelihood:.1f}\")\n",
    "            else:\n",
    "                self.decode_list[i], self.decode_list[j] = self.decode_list[j], self.decode_list[i]\n",
    "        return self._try_decode(message, message_alphabet)"
   ],
   "metadata": {
    "collapsed": false,
    "pycharm": {
     "name": "#%%\n"
    }
   }
  },
  {
   "cell_type": "markdown",
   "source": [
    "## 3.1 Русский"
   ],
   "metadata": {
    "collapsed": false,
    "pycharm": {
     "name": "#%% md\n"
    }
   }
  },
  {
   "cell_type": "code",
   "execution_count": 57,
   "outputs": [
    {
     "data": {
      "text/plain": "-3073.9:   0%|          | 0/100000 [00:00<?, ?it/s]",
      "application/vnd.jupyter.widget-view+json": {
       "version_major": 2,
       "version_minor": 0,
       "model_id": "4a52b8c57240425d8387edd213f0051c"
      }
     },
     "metadata": {},
     "output_type": "display_data"
    },
    {
     "data": {
      "text/plain": "'в ervr году я окончил лондонский университет получив звание врача и сразу dе отправился в нетли где прошел спежиальный курс для военным мирургов после окончания занятий я был назначен ассистентою мирурга в пятый нортуюберлендский стрелковый полк в то вреюя полк стоял в индии и не успел я до него добраться как вспымнула вторая война с афганистаною '"
     },
     "execution_count": 57,
     "metadata": {},
     "output_type": "execute_result"
    }
   ],
   "source": [
    "decoder = MCMCDecoder(wap_rus)\n",
    "decoder.decode(coded_message_rus)"
   ],
   "metadata": {
    "collapsed": false,
    "pycharm": {
     "name": "#%%\n"
    }
   }
  },
  {
   "cell_type": "markdown",
   "source": [
    "## 3.2 Английский"
   ],
   "metadata": {
    "collapsed": false,
    "pycharm": {
     "name": "#%% md\n"
    }
   }
  },
  {
   "cell_type": "code",
   "execution_count": 64,
   "outputs": [
    {
     "data": {
      "text/plain": "-2384.5:   0%|          | 0/100000 [00:00<?, ?it/s]",
      "application/vnd.jupyter.widget-view+json": {
       "version_major": 2,
       "version_minor": 0,
       "model_id": "3d93861449684262aab0fe2a53c43168"
      }
     },
     "metadata": {},
     "output_type": "display_data"
    },
    {
     "data": {
      "text/plain": "'in the centre of the room clamped to an upright easel stood the full length portrait of a young man of eétraordinary personal veauty and in front of it some little distance away was sitting the artist himself vasil hallward whose sudden disappearance some years ago caused at the time such puvlic eécitement and gaäe rise to so many strange conkectures '"
     },
     "execution_count": 64,
     "metadata": {},
     "output_type": "execute_result"
    }
   ],
   "source": [
    "decoder = MCMCDecoder(wap_eng)\n",
    "decoder.decode(coded_message_eng)"
   ],
   "metadata": {
    "collapsed": false,
    "pycharm": {
     "name": "#%%\n"
    }
   }
  },
  {
   "cell_type": "markdown",
   "source": [
    "# 4. Секретное сообщение"
   ],
   "metadata": {
    "collapsed": false,
    "pycharm": {
     "name": "#%% md\n"
    }
   }
  },
  {
   "cell_type": "code",
   "execution_count": 66,
   "outputs": [],
   "source": [
    "secret_msg = \"დჳჵჂႨშႼႨშჂხჂჲდႨსႹႭჾႣჵისႼჰႨჂჵჂႨႲႹႧჲჂႨსႹႭჾႣჵისႼჰႨჲდႩჳჲႨჇႨႠჲႹქႹႨჳႹႹჱჶდსჂႽႨႩႹჲႹႭႼჰႨჵდქႩႹႨႲႭႹႧჂჲႣჲიႨჳႩႹႭდდႨშჳდქႹႨშႼႨშჳდႨჳხდჵႣჵჂႨႲႭႣშჂჵისႹႨჂႨႲႹჵჇႧჂჲდႨჾႣႩჳჂჾႣჵისႼჰႨჱႣჵჵႨეႣႨႲႹჳჵდხსდდႨႧდჲშდႭჲႹდႨეႣხႣსჂდႨႩჇႭჳႣႨႾႹჲႽႨႩႹსდႧსႹႨႽႨსჂႧდქႹႨსდႨႹჱდჶႣნ\""
   ],
   "metadata": {
    "collapsed": false,
    "pycharm": {
     "name": "#%%\n"
    }
   }
  },
  {
   "cell_type": "code",
   "execution_count": 67,
   "outputs": [
    {
     "data": {
      "text/plain": "-2012.6:   0%|          | 0/100000 [00:00<?, ?it/s]",
      "application/vnd.jupyter.widget-view+json": {
       "version_major": 2,
       "version_minor": 0,
       "model_id": "e6cd445d76794b5c86a7b20a2aa9d7d2"
      }
     },
     "metadata": {},
     "output_type": "display_data"
    },
    {
     "data": {
      "text/plain": "'если вы вичите норзальный или подти норзальный текст у 9томо сообгения который лемко продитать скорее всемо вы все счелали правильно и полудите заксизальный балл жа послечнее детвертое жачание курса cотя конедно я нидемо не обегаs'"
     },
     "execution_count": 67,
     "metadata": {},
     "output_type": "execute_result"
    }
   ],
   "source": [
    "decoder = MCMCDecoder(wap_rus)\n",
    "decoder.decode(secret_msg)"
   ],
   "metadata": {
    "collapsed": false,
    "pycharm": {
     "name": "#%%\n"
    }
   }
  },
  {
   "cell_type": "markdown",
   "source": [
    "# 6. Возможные применения"
   ],
   "metadata": {
    "collapsed": false,
    "pycharm": {
     "name": "#%% md\n"
    }
   }
  },
  {
   "cell_type": "markdown",
   "source": [
    "Сразу в голову приходит расшифровка текста в неизвестной кодировке, хотя конечно это можно делать сильно проще."
   ],
   "metadata": {
    "collapsed": false,
    "pycharm": {
     "name": "#%% md\n"
    }
   }
  }
 ],
 "metadata": {
  "kernelspec": {
   "display_name": "Python 3",
   "language": "python",
   "name": "python3"
  },
  "language_info": {
   "codemirror_mode": {
    "name": "ipython",
    "version": 2
   },
   "file_extension": ".py",
   "mimetype": "text/x-python",
   "name": "python",
   "nbconvert_exporter": "python",
   "pygments_lexer": "ipython2",
   "version": "2.7.6"
  }
 },
 "nbformat": 4,
 "nbformat_minor": 0
}